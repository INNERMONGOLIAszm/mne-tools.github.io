{
  "nbformat_minor": 0, 
  "nbformat": 4, 
  "cells": [
    {
      "execution_count": null, 
      "cell_type": "code", 
      "source": [
        "%matplotlib inline"
      ], 
      "outputs": [], 
      "metadata": {
        "collapsed": false
      }
    }, 
    {
      "source": [
        "\n========================================================\nExtract epochs, average and save evoked response to disk\n========================================================\n\nThis script shows how to read the epochs from a raw file given\na list of events. The epochs are averaged to produce evoked\ndata and then saved to disk.\n\n"
      ], 
      "cell_type": "markdown", 
      "metadata": {}
    }, 
    {
      "execution_count": null, 
      "cell_type": "code", 
      "source": [
        "# Authors: Alexandre Gramfort <alexandre.gramfort@telecom-paristech.fr>\n#          Denis A. Engemann <denis.engemann@gmail.com>\n#\n# License: BSD (3-clause)\n\nimport mne\nfrom mne import io\nfrom mne.datasets import sample\n\nprint(__doc__)\n\ndata_path = sample.data_path()"
      ], 
      "outputs": [], 
      "metadata": {
        "collapsed": false
      }
    }, 
    {
      "source": [
        "Set parameters\n"
      ], 
      "cell_type": "markdown", 
      "metadata": {}
    }, 
    {
      "execution_count": null, 
      "cell_type": "code", 
      "source": [
        "raw_fname = data_path + '/MEG/sample/sample_audvis_filt-0-40_raw.fif'\nevent_fname = data_path + '/MEG/sample/sample_audvis_filt-0-40_raw-eve.fif'\ntmin, tmax = -0.2, 0.5\n\n# Select events to extract epochs from.\nevent_id = {'Auditory/Left': 1, 'Auditory/Right': 2}\n\n#   Setup for reading the raw data\nraw = io.Raw(raw_fname)\nevents = mne.read_events(event_fname)\n\n#   Plot raw data\nraw.plot(events=events, event_color={1: 'cyan', -1: 'lightgray'})\n\n#   Set up pick list: EEG + STI 014 - bad channels (modify to your needs)\ninclude = []  # or stim channels ['STI 014']\nraw.info['bads'] = ['MEG 2443', 'EEG 053']  # set bads\n\n# pick EEG and MEG channels\npicks = mne.pick_types(raw.info, meg=True, eeg=True, stim=False, eog=True,\n                       include=include, exclude='bads')\n# Read epochs\nepochs = mne.Epochs(raw, events, event_id, tmin, tmax, picks=picks,\n                    baseline=(None, 0), reject=dict(eeg=80e-6, eog=150e-6),\n                    preload=True)\n\n# Plot epochs.\nepochs.plot(title='Auditory left/right')\n\n# Look at channels that caused dropped events, showing that the subject's\n# blinks were likely to blame for most epochs being dropped\nepochs.drop_bad_epochs()\nepochs.plot_drop_log(subject='sample')\n\n# Average epochs and get evoked data corresponding to the left stimulation\nevoked = epochs['Left'].average()\n\nevoked.save('sample_audvis_eeg-ave.fif')  # save evoked data to disk"
      ], 
      "outputs": [], 
      "metadata": {
        "collapsed": false
      }
    }, 
    {
      "source": [
        "View evoked response\n"
      ], 
      "cell_type": "markdown", 
      "metadata": {}
    }, 
    {
      "execution_count": null, 
      "cell_type": "code", 
      "source": [
        "evoked.plot(gfp=True)"
      ], 
      "outputs": [], 
      "metadata": {
        "collapsed": false
      }
    }, 
    {
      "source": [
        "Save evoked responses for different conditions to disk\n"
      ], 
      "cell_type": "markdown", 
      "metadata": {}
    }, 
    {
      "execution_count": null, 
      "cell_type": "code", 
      "source": [
        "# average epochs and get Evoked datasets\nevokeds = [epochs[cond].average() for cond in ['Left', 'Right']]\n\n# save evoked data to disk\nmne.write_evokeds('sample_auditory_and_visual_eeg-ave.fif', evokeds)"
      ], 
      "outputs": [], 
      "metadata": {
        "collapsed": false
      }
    }
  ], 
  "metadata": {
    "kernelspec": {
      "display_name": "Python 2", 
      "name": "python2", 
      "language": "python"
    }, 
    "language_info": {
      "mimetype": "text/x-python", 
      "nbconvert_exporter": "python", 
      "name": "python", 
      "file_extension": ".py", 
      "version": "2.7.11", 
      "pygments_lexer": "ipython2", 
      "codemirror_mode": {
        "version": 2, 
        "name": "ipython"
      }
    }
  }
}