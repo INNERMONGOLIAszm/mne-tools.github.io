{
  "nbformat_minor": 0, 
  "nbformat": 4, 
  "cells": [
    {
      "execution_count": null, 
      "cell_type": "code", 
      "source": [
        "%matplotlib inline"
      ], 
      "outputs": [], 
      "metadata": {
        "collapsed": false
      }
    }, 
    {
      "source": [
        "\n=================================\nPlotting ERF/ERP with evoked data\n=================================\n\nLoad evoked data and plot.\n\n"
      ], 
      "cell_type": "markdown", 
      "metadata": {}
    }, 
    {
      "execution_count": null, 
      "cell_type": "code", 
      "source": [
        "# Authors: Alexandre Gramfort <alexandre.gramfort@telecom-paristech.fr>\n#\n# License: BSD (3-clause)\n\nimport matplotlib.pyplot as plt\nfrom mne.datasets import sample\nfrom mne import read_evokeds\n\nprint(__doc__)\n\npath = sample.data_path()\nfname = path + '/MEG/sample/sample_audvis-ave.fif'\n\n# load evoked and subtract baseline\ncondition = 'Left Auditory'\nevoked = read_evokeds(fname, condition=condition, baseline=(None, 0))\n\n# Plot the evoked response with spatially color coded lines.\n# Note: You can paint the area with left mouse button to show the topographic\n# map of the N100.\nevoked.plot(spatial_colors=True)"
      ], 
      "outputs": [], 
      "metadata": {
        "collapsed": false
      }
    }, 
    {
      "source": [
        "Or plot manually after extracting peak latency\n"
      ], 
      "cell_type": "markdown", 
      "metadata": {}
    }, 
    {
      "execution_count": null, 
      "cell_type": "code", 
      "source": [
        "evoked = evoked.pick_types(meg=False, eeg=True)\ntimes = 1e3 * evoked.times  # time in milliseconds\n\nch_max_name, latency = evoked.get_peak(mode='neg')\n\nplt.figure()\nplt.plot(times, 1e6 * evoked.data.T, 'k-')\nplt.xlim([times[0], times[-1]])\nplt.xlabel('time (ms)')\nplt.ylabel('Potential (uV)')\nplt.title('EEG evoked potential')\n\nplt.axvline(latency * 1e3, color='red',\n            label=ch_max_name, linewidth=2,\n            linestyle='--')\nplt.legend(loc='best')\n\nplt.show()"
      ], 
      "outputs": [], 
      "metadata": {
        "collapsed": false
      }
    }
  ], 
  "metadata": {
    "kernelspec": {
      "display_name": "Python 2", 
      "name": "python2", 
      "language": "python"
    }, 
    "language_info": {
      "mimetype": "text/x-python", 
      "nbconvert_exporter": "python", 
      "name": "python", 
      "file_extension": ".py", 
      "version": "2.7.11", 
      "pygments_lexer": "ipython2", 
      "codemirror_mode": {
        "version": 2, 
        "name": "ipython"
      }
    }
  }
}