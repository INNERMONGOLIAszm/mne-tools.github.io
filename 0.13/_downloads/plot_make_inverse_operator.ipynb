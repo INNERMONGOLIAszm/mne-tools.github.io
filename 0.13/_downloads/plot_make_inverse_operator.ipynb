{
  "nbformat_minor": 0, 
  "nbformat": 4, 
  "cells": [
    {
      "execution_count": null, 
      "cell_type": "code", 
      "source": [
        "%matplotlib inline"
      ], 
      "outputs": [], 
      "metadata": {
        "collapsed": false
      }
    }, 
    {
      "source": [
        "\n# Assemble inverse operator and compute MNE-dSPM inverse solution\n\n\nAssemble M/EEG, MEG, and EEG inverse operators and compute dSPM\ninverse solution on MNE evoked dataset and stores the solution\nin stc files for visualisation.\n\n"
      ], 
      "cell_type": "markdown", 
      "metadata": {}
    }, 
    {
      "execution_count": null, 
      "cell_type": "code", 
      "source": [
        "# Author: Alexandre Gramfort <alexandre.gramfort@telecom-paristech.fr>\n#\n# License: BSD (3-clause)\n\nimport matplotlib.pyplot as plt\n\nimport mne\nfrom mne.datasets import sample\nfrom mne.minimum_norm import (make_inverse_operator, apply_inverse,\n                              write_inverse_operator)\n\nprint(__doc__)\n\ndata_path = sample.data_path()\nfname_fwd_meeg = data_path + '/MEG/sample/sample_audvis-meg-eeg-oct-6-fwd.fif'\nfname_fwd_eeg = data_path + '/MEG/sample/sample_audvis-eeg-oct-6-fwd.fif'\nfname_cov = data_path + '/MEG/sample/sample_audvis-shrunk-cov.fif'\nfname_evoked = data_path + '/MEG/sample/sample_audvis-ave.fif'\n\nsnr = 3.0\nlambda2 = 1.0 / snr ** 2\n\n# Load data\nevoked = mne.read_evokeds(fname_evoked, condition=0, baseline=(None, 0))\nforward_meeg = mne.read_forward_solution(fname_fwd_meeg, surf_ori=True)\nnoise_cov = mne.read_cov(fname_cov)\n\n# Restrict forward solution as necessary for MEG\nforward_meg = mne.pick_types_forward(forward_meeg, meg=True, eeg=False)\n# Alternatively, you can just load a forward solution that is restricted\nforward_eeg = mne.read_forward_solution(fname_fwd_eeg, surf_ori=True)\n\n# make an M/EEG, MEG-only, and EEG-only inverse operators\ninfo = evoked.info\ninverse_operator_meeg = make_inverse_operator(info, forward_meeg, noise_cov,\n                                              loose=0.2, depth=0.8)\ninverse_operator_meg = make_inverse_operator(info, forward_meg, noise_cov,\n                                             loose=0.2, depth=0.8)\ninverse_operator_eeg = make_inverse_operator(info, forward_eeg, noise_cov,\n                                             loose=0.2, depth=0.8)\n\nwrite_inverse_operator('sample_audvis-meeg-oct-6-inv.fif',\n                       inverse_operator_meeg)\nwrite_inverse_operator('sample_audvis-meg-oct-6-inv.fif',\n                       inverse_operator_meg)\nwrite_inverse_operator('sample_audvis-eeg-oct-6-inv.fif',\n                       inverse_operator_eeg)\n\n# Compute inverse solution\nstcs = dict()\nstcs['meeg'] = apply_inverse(evoked, inverse_operator_meeg, lambda2, \"dSPM\",\n                             pick_ori=None)\nstcs['meg'] = apply_inverse(evoked, inverse_operator_meg, lambda2, \"dSPM\",\n                            pick_ori=None)\nstcs['eeg'] = apply_inverse(evoked, inverse_operator_eeg, lambda2, \"dSPM\",\n                            pick_ori=None)\n\n# Save result in stc files\nnames = ['meeg', 'meg', 'eeg']\nfor name in names:\n    stcs[name].save('mne_dSPM_inverse-%s' % name)"
      ], 
      "outputs": [], 
      "metadata": {
        "collapsed": false
      }
    }, 
    {
      "source": [
        "View activation time-series\n"
      ], 
      "cell_type": "markdown", 
      "metadata": {}
    }, 
    {
      "execution_count": null, 
      "cell_type": "code", 
      "source": [
        "plt.close('all')\nplt.figure(figsize=(8, 6))\nfor ii in range(len(stcs)):\n    name = names[ii]\n    stc = stcs[name]\n    plt.subplot(len(stcs), 1, ii + 1)\n    plt.plot(1e3 * stc.times, stc.data[::150, :].T)\n    plt.ylabel('%s\\ndSPM value' % str.upper(name))\nplt.xlabel('time (ms)')\nplt.show()"
      ], 
      "outputs": [], 
      "metadata": {
        "collapsed": false
      }
    }
  ], 
  "metadata": {
    "kernelspec": {
      "display_name": "Python 2", 
      "name": "python2", 
      "language": "python"
    }, 
    "language_info": {
      "mimetype": "text/x-python", 
      "nbconvert_exporter": "python", 
      "name": "python", 
      "file_extension": ".py", 
      "version": "2.7.11", 
      "pygments_lexer": "ipython2", 
      "codemirror_mode": {
        "version": 2, 
        "name": "ipython"
      }
    }
  }
}