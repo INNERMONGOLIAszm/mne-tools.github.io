{
  "nbformat_minor": 0, 
  "nbformat": 4, 
  "cells": [
    {
      "execution_count": null, 
      "cell_type": "code", 
      "source": [
        "%matplotlib inline"
      ], 
      "outputs": [], 
      "metadata": {
        "collapsed": false
      }
    }, 
    {
      "source": [
        "\n======================\nPlot M/EEG field lines\n======================\n\nIn this example, M/EEG data are remapped onto the\nMEG helmet (MEG) and subject's head surface (EEG).\nThis process can be computationally intensive.\n"
      ], 
      "cell_type": "markdown", 
      "metadata": {}
    }, 
    {
      "execution_count": null, 
      "cell_type": "code", 
      "source": [
        "# Authors: Eric Larson <larson.eric.d@gmail.com>\n#          Denis A. Engemann <denis.engemann@gmail.com>\n#          Alexandre Gramfort <alexandre.gramfort@telecom-paristech.fr>\n\n# License: BSD (3-clause)\n\nfrom mne.datasets import sample\nfrom mne import make_field_map, read_evokeds\n\nprint(__doc__)\n\ndata_path = sample.data_path()\nsubjects_dir = data_path + '/subjects'\nevoked_fname = data_path + '/MEG/sample/sample_audvis-ave.fif'\ntrans_fname = data_path + '/MEG/sample/sample_audvis_raw-trans.fif'\n# If trans_fname is set to None then only MEG estimates can be visualized\n\ncondition = 'Left Auditory'\nevoked = read_evokeds(evoked_fname, condition=condition, baseline=(-0.2, 0.0))\n\n# Compute the field maps to project MEG and EEG data to MEG helmet\n# and scalp surface\nmaps = make_field_map(evoked, trans_fname, subject='sample',\n                      subjects_dir=subjects_dir, n_jobs=1)\n\n# Plot MEG and EEG fields in the helmet and scalp surface in the same figure.\nevoked.plot_field(maps, time=0.11)\n\n# Compute the MEG fields in the scalp surface\nevoked.pick_types(meg=True, eeg=False)\nmaps_head = make_field_map(evoked, trans_fname, subject='sample',\n                           subjects_dir=subjects_dir, n_jobs=1,\n                           meg_surf='head')\n\n# Plot MEG fields both in scalp surface and the helmet in the same figure.\nevoked.plot_field([maps_head[0], maps[1]], time=0.11)"
      ], 
      "outputs": [], 
      "metadata": {
        "collapsed": false
      }
    }
  ], 
  "metadata": {
    "kernelspec": {
      "display_name": "Python 2", 
      "name": "python2", 
      "language": "python"
    }, 
    "language_info": {
      "mimetype": "text/x-python", 
      "nbconvert_exporter": "python", 
      "name": "python", 
      "file_extension": ".py", 
      "version": "2.7.11", 
      "pygments_lexer": "ipython2", 
      "codemirror_mode": {
        "version": 2, 
        "name": "ipython"
      }
    }
  }
}