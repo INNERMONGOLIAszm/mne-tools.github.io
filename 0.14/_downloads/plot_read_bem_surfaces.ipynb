{
  "nbformat_minor": 0, 
  "nbformat": 4, 
  "cells": [
    {
      "execution_count": null, 
      "cell_type": "code", 
      "source": [
        "%matplotlib inline"
      ], 
      "outputs": [], 
      "metadata": {
        "collapsed": false
      }
    }, 
    {
      "source": [
        "\n# Reading BEM surfaces from a forward solution\n\n\nPlot BEM surfaces used for forward solution generation.\n\n"
      ], 
      "cell_type": "markdown", 
      "metadata": {}
    }, 
    {
      "execution_count": null, 
      "cell_type": "code", 
      "source": [
        "# Author: Jaakko Leppakangas <jaeilepp@gmail.com>\n#\n# License: BSD (3-clause)\nimport os.path as op\nfrom mayavi import mlab\n\nimport mne\nfrom mne.datasets.sample import data_path\n\nprint(__doc__)\n\ndata_path = data_path()\nfname = op.join(data_path, 'MEG', 'sample', 'sample_audvis_raw.fif')\nraw = mne.io.read_raw_fif(fname)\nsubjects_dir = op.join(data_path, 'subjects')"
      ], 
      "outputs": [], 
      "metadata": {
        "collapsed": false
      }
    }, 
    {
      "source": [
        "Here we use :func:`mne.viz.plot_trans` with ``trans=None`` to plot only the\nsurfaces without any transformations. For plotting transformation, see\n`tut_forward`.\n\n"
      ], 
      "cell_type": "markdown", 
      "metadata": {}
    }, 
    {
      "execution_count": null, 
      "cell_type": "code", 
      "source": [
        "mne.viz.plot_trans(raw.info, trans=None, subject='sample',\n                   subjects_dir=subjects_dir, meg_sensors=[], eeg_sensors=[],\n                   head='outer_skin', skull=['inner_skull', 'outer_skull'])\nmlab.view(40, 60)"
      ], 
      "outputs": [], 
      "metadata": {
        "collapsed": false
      }
    }
  ], 
  "metadata": {
    "kernelspec": {
      "display_name": "Python 2", 
      "name": "python2", 
      "language": "python"
    }, 
    "language_info": {
      "mimetype": "text/x-python", 
      "nbconvert_exporter": "python", 
      "name": "python", 
      "file_extension": ".py", 
      "version": "2.7.13", 
      "pygments_lexer": "ipython2", 
      "codemirror_mode": {
        "version": 2, 
        "name": "ipython"
      }
    }
  }
}