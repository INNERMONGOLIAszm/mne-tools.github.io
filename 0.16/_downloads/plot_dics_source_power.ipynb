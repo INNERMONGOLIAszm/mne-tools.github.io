{
  "cells": [
    {
      "cell_type": "code",
      "execution_count": null,
      "metadata": {
        "collapsed": false
      },
      "outputs": [],
      "source": [
        "%matplotlib inline"
      ]
    },
    {
      "cell_type": "markdown",
      "metadata": {},
      "source": [
        "\n# Compute source power using DICS beamfomer\n\n\nCompute a Dynamic Imaging of Coherent Sources (DICS) [1]_ filter from\nsingle-trial activity to estimate source power across a frequency band.\n\nReferences\n----------\n.. [1] Gross et al. Dynamic imaging of coherent sources: Studying neural\n       interactions in the human brain. PNAS (2001) vol. 98 (2) pp. 694-699\n\n"
      ]
    },
    {
      "cell_type": "code",
      "execution_count": null,
      "metadata": {
        "collapsed": false
      },
      "outputs": [],
      "source": [
        "# Author: Marijn van Vliet <w.m.vanvliet@gmail.com>\n#         Roman Goj <roman.goj@gmail.com>\n#         Denis Engemann <denis.engemann@gmail.com>\n#\n# License: BSD (3-clause)\nimport numpy as np\nimport mne\nfrom mne.datasets import sample\nfrom mne.time_frequency import csd_morlet\nfrom mne.beamformer import make_dics, apply_dics_csd\n\nprint(__doc__)\n\ndata_path = sample.data_path()\nraw_fname = data_path + '/MEG/sample/sample_audvis_raw.fif'\nevent_fname = data_path + '/MEG/sample/sample_audvis_raw-eve.fif'\nfname_fwd = data_path + '/MEG/sample/sample_audvis-meg-eeg-oct-6-fwd.fif'\nsubjects_dir = data_path + '/subjects'"
      ]
    },
    {
      "cell_type": "markdown",
      "metadata": {},
      "source": [
        "Reading the raw data:\n\n"
      ]
    },
    {
      "cell_type": "code",
      "execution_count": null,
      "metadata": {
        "collapsed": false
      },
      "outputs": [],
      "source": [
        "raw = mne.io.read_raw_fif(raw_fname)\nraw.info['bads'] = ['MEG 2443']  # 1 bad MEG channel\n\n# Set picks\npicks = mne.pick_types(raw.info, meg=True, eeg=False, eog=False,\n                       stim=False, exclude='bads')\n\n# Read epochs\nevent_id, tmin, tmax = 1, -0.2, 0.5\nevents = mne.read_events(event_fname)\nepochs = mne.Epochs(raw, events, event_id, tmin, tmax, proj=True,\n                    picks=picks, baseline=(None, 0), preload=True,\n                    reject=dict(grad=4000e-13, mag=4e-12))\nevoked = epochs.average()\n\n# Read forward operator\nforward = mne.read_forward_solution(fname_fwd)"
      ]
    },
    {
      "cell_type": "markdown",
      "metadata": {},
      "source": [
        "Computing the cross-spectral density matrix at 4 evenly spaced frequencies\nfrom 6 to 10 Hz. We use a decim value of 20 to speed up the computation in\nthis example at the loss of accuracy.\n\n"
      ]
    },
    {
      "cell_type": "code",
      "execution_count": null,
      "metadata": {
        "collapsed": false
      },
      "outputs": [],
      "source": [
        "csd = csd_morlet(epochs, tmin=0, tmax=0.5, decim=20,\n                 frequencies=np.linspace(6, 10, 4))\n\n# Compute DICS spatial filter and estimate source power.\nfilters = make_dics(epochs.info, forward, csd, reg=0.5)\nstc, freqs = apply_dics_csd(csd, filters)\n\nmessage = 'DICS source power in the 8-12 Hz frequency band'\nbrain = stc.plot(surface='inflated', hemi='rh', subjects_dir=subjects_dir,\n                 time_label=message)"
      ]
    }
  ],
  "metadata": {
    "kernelspec": {
      "display_name": "Python 3",
      "language": "python",
      "name": "python3"
    },
    "language_info": {
      "codemirror_mode": {
        "name": "ipython",
        "version": 3
      },
      "file_extension": ".py",
      "mimetype": "text/x-python",
      "name": "python",
      "nbconvert_exporter": "python",
      "pygments_lexer": "ipython3",
      "version": "3.6.5"
    }
  },
  "nbformat": 4,
  "nbformat_minor": 0
}