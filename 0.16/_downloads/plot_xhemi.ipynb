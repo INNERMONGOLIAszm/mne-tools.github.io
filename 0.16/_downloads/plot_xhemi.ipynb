{
  "cells": [
    {
      "cell_type": "code",
      "execution_count": null,
      "metadata": {
        "collapsed": false
      },
      "outputs": [],
      "source": [
        "%matplotlib inline"
      ]
    },
    {
      "cell_type": "markdown",
      "metadata": {},
      "source": [
        "\n# Cross-hemisphere comparison\n\n\nThis example illustrates how to visualize the difference between activity in\nthe left and the right hemisphere. The data from the right hemisphere is\nmapped to the left hemisphere, and then the difference is plotted. For more\ninformation see :func:`mne.compute_morph_matrix`.\n\n"
      ]
    },
    {
      "cell_type": "code",
      "execution_count": null,
      "metadata": {
        "collapsed": false
      },
      "outputs": [],
      "source": [
        "# Author: Christian Brodbeck <christianbrodbeck@nyu.edu>\n#\n# License: BSD (3-clause)\n\nimport mne\n\n\ndata_dir = mne.datasets.sample.data_path()\nsubjects_dir = data_dir + '/subjects'\nstc_path = data_dir + '/MEG/sample/sample_audvis-meg-eeg'\n\nstc = mne.read_source_estimate(stc_path, 'sample')\n\n# First, morph the data to fsaverage_sym, for which we have left_right\n# registrations:\nstc = stc.morph('fsaverage_sym', subjects_dir=subjects_dir, smooth=5)\n\n# Compute a morph-matrix mapping the right to the left hemisphere. Use the\n# vertices parameters to determine source and target hemisphere:\nmm = mne.compute_morph_matrix(\n    'fsaverage_sym', 'fsaverage_sym', xhemi=True,  # cross-hemisphere morphing\n    vertices_from=[[], stc.vertices[1]],  # from the right hemisphere\n    vertices_to=[stc.vertices[0], []],  # to the left hemisphere\n    subjects_dir=subjects_dir)\n\n# SourceEstimate on the left hemisphere:\nstc_lh = mne.SourceEstimate(stc.lh_data, [stc.vertices[0], []], stc.tmin,\n                            stc.tstep, stc.subject)\n# SourceEstimate of the right hemisphere, morphed to the left:\nstc_rh_on_lh = mne.SourceEstimate(mm * stc.rh_data, [stc.vertices[0], []],\n                                  stc.tmin, stc.tstep, stc.subject)\n# Since both STCs are now on the same hemisphere we can subtract them:\ndiff = stc_lh - stc_rh_on_lh\n\ndiff.plot(hemi='lh', subjects_dir=subjects_dir, initial_time=0.07,\n          size=(800, 600))"
      ]
    }
  ],
  "metadata": {
    "kernelspec": {
      "display_name": "Python 3",
      "language": "python",
      "name": "python3"
    },
    "language_info": {
      "codemirror_mode": {
        "name": "ipython",
        "version": 3
      },
      "file_extension": ".py",
      "mimetype": "text/x-python",
      "name": "python",
      "nbconvert_exporter": "python",
      "pygments_lexer": "ipython3",
      "version": "3.6.5"
    }
  },
  "nbformat": 4,
  "nbformat_minor": 0
}