{
  "nbformat_minor": 0, 
  "nbformat": 4, 
  "cells": [
    {
      "execution_count": null, 
      "cell_type": "code", 
      "source": [
        "%matplotlib inline"
      ], 
      "outputs": [], 
      "metadata": {
        "collapsed": false
      }
    }, 
    {
      "source": [
        "\n# Plotting head in helmet from a trans file\n\n\nIn this example, the head is shown in the\nMEG helmet along with the EEG electrodes in MRI\ncoordinate system. This allows assessing the\nMEG <-> MRI coregistration quality.\n\n"
      ], 
      "cell_type": "markdown", 
      "metadata": {}
    }, 
    {
      "execution_count": null, 
      "cell_type": "code", 
      "source": [
        "# Author: Mainak Jas <mainak@neuro.hut.fi>\n#\n# License: BSD (3-clause)\n\nfrom mne import read_evokeds\nfrom mne.datasets import sample\nfrom mne.viz import plot_trans\n\nprint(__doc__)\n\n\ndata_path = sample.data_path()\nsubjects_dir = data_path + '/subjects'\nevoked_fname = data_path + '/MEG/sample/sample_audvis-ave.fif'\ntrans_fname = data_path + '/MEG/sample/sample_audvis_raw-trans.fif'\n\ncondition = 'Left Auditory'\nevoked = read_evokeds(evoked_fname, condition=condition, baseline=(-0.2, 0.0))\nplot_trans(evoked.info, trans_fname, subject='sample', dig=True,\n           meg_sensors=True, subjects_dir=subjects_dir)"
      ], 
      "outputs": [], 
      "metadata": {
        "collapsed": false
      }
    }
  ], 
  "metadata": {
    "kernelspec": {
      "display_name": "Python 2", 
      "name": "python2", 
      "language": "python"
    }, 
    "language_info": {
      "mimetype": "text/x-python", 
      "nbconvert_exporter": "python", 
      "name": "python", 
      "file_extension": ".py", 
      "version": "2.7.11", 
      "pygments_lexer": "ipython2", 
      "codemirror_mode": {
        "version": 2, 
        "name": "ipython"
      }
    }
  }
}