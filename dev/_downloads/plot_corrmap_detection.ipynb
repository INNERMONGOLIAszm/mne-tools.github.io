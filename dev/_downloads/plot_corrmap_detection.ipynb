{
  "nbformat_minor": 0, 
  "nbformat": 4, 
  "cells": [
    {
      "execution_count": null, 
      "cell_type": "code", 
      "source": [
        "%matplotlib inline"
      ], 
      "outputs": [], 
      "metadata": {
        "collapsed": false
      }
    }, 
    {
      "source": [
        "\n# Identify similar ICs across multiple datasets via CORRMAP\n\n\nAfter fitting ICA to multiple data sets, CORRMAP [1]_\nautomatically identifies similar ICs in all sets based\non a manually selected template. These ICs can then be\nremoved, or further investigated.\n\nReferences\n----------\n.. [1] Viola FC, et al. Semi-automatic identification of independent components\n       representing EEG artifact. Clin Neurophysiol 2009, May; 120(5): 868-77.\n"
      ], 
      "cell_type": "markdown", 
      "metadata": {}
    }, 
    {
      "execution_count": null, 
      "cell_type": "code", 
      "source": [
        "# Authors: Jona Sassenhagen <jona.sassenhagen@gmail.com>\n#          Denis Engemann <denis.engemann@gmail.com>\n#\n# License: BSD (3-clause)\n\nimport mne\nfrom mne.preprocessing import ICA\nfrom mne.preprocessing.ica import corrmap\nfrom mne.datasets import sample\n\nprint(__doc__)"
      ], 
      "outputs": [], 
      "metadata": {
        "collapsed": false
      }
    }, 
    {
      "source": [
        "Setup paths and prepare epochs data\n"
      ], 
      "cell_type": "markdown", 
      "metadata": {}
    }, 
    {
      "execution_count": null, 
      "cell_type": "code", 
      "source": [
        "data_path = sample.data_path()\nraw_fname = data_path + '/MEG/sample/sample_audvis_filt-0-40_raw.fif'\n\nraw = mne.io.read_raw_fif(raw_fname, preload=True)\nraw.filter(1, 30, method='iir')\npicks = mne.pick_types(raw.info, meg=False, eeg=True, eog=True, ecg=False,\n                       stim=False, exclude='bads')\n\nevents = mne.find_events(raw, stim_channel='STI 014')\nevent_id = dict(aud_l=1, aud_r=2, vis_l=3, vis_r=4)\nreject = dict(eog=250e-6)\ntmin, tmax = -0.5, 0.75"
      ], 
      "outputs": [], 
      "metadata": {
        "collapsed": false
      }
    }, 
    {
      "source": [
        "1) Fit ICA to all \"subjects\".\nIn a real-world case, this would instead be multiple subjects/data sets,\nhere we create artificial subsets\n"
      ], 
      "cell_type": "markdown", 
      "metadata": {}
    }, 
    {
      "execution_count": null, 
      "cell_type": "code", 
      "source": [
        "all_epochs = mne.Epochs(raw, events, event_id, tmin, tmax,\n                        proj=False, picks=picks, baseline=(None, 0),\n                        preload=True, reject=None, verbose=False)\n\nall_epochs = [all_epochs[start:stop] for start, stop in\n              [(0, 100), (101, 200), (201, 300)]]\n\nicas = [ICA(n_components=20, random_state=1).fit(epochs)\n        for epochs in all_epochs]\n\n# 2) Use corrmap to identify the maps best corresponding\n#    to a pre-specified template across all subsets\n#    (or, in the real world, multiple participant data sets)\n\ntemplate = (0, 0)\nfig_template, fig_detected = corrmap(icas, template=template, label=\"blinks\",\n                                     show=True, threshold=.8)\n\n# 3) Zeroing the identified blink components for all data sets\n#    results in individually cleaned data sets. Specific components\n#    can be accessed using the label_ attribute.\n\nfor ica in icas:\n    print(ica.labels_)"
      ], 
      "outputs": [], 
      "metadata": {
        "collapsed": false
      }
    }
  ], 
  "metadata": {
    "kernelspec": {
      "display_name": "Python 2", 
      "name": "python2", 
      "language": "python"
    }, 
    "language_info": {
      "mimetype": "text/x-python", 
      "nbconvert_exporter": "python", 
      "name": "python", 
      "file_extension": ".py", 
      "version": "2.7.11", 
      "pygments_lexer": "ipython2", 
      "codemirror_mode": {
        "version": 2, 
        "name": "ipython"
      }
    }
  }
}