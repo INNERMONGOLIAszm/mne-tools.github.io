{
  "nbformat_minor": 0, 
  "nbformat": 4, 
  "cells": [
    {
      "execution_count": null, 
      "cell_type": "code", 
      "source": [
        "%matplotlib inline"
      ], 
      "outputs": [], 
      "metadata": {
        "collapsed": false
      }
    }, 
    {
      "source": [
        "\n# Decoding in sensor space data using the Xdawn Transformer\n\n\nDecoding applied to MEG data in sensor space decomposed using Xdawn.\nHere the classifier is applied to features extracted on Xdawn filtered signals.\n\n\n"
      ], 
      "cell_type": "markdown", 
      "metadata": {}
    }, 
    {
      "execution_count": null, 
      "cell_type": "code", 
      "source": [
        "# Authors: Asish Panda <asishrocks95@gmail.com>\n#          Alexandre Barachant <alexandre.barachant@gmail.com>\n#\n# License: BSD (3-clause)\nimport numpy as np\nimport matplotlib.pyplot as plt\n\nfrom sklearn.cross_validation import cross_val_score, ShuffleSplit  # noqa\nfrom sklearn.pipeline import make_pipeline\nfrom sklearn.linear_model import LogisticRegression\nfrom sklearn.preprocessing import label_binarize\nfrom sklearn.preprocessing import StandardScaler\n\nfrom mne import io, pick_types, read_events, Epochs\nfrom mne.viz import plot_topomap\nfrom mne.datasets import sample\nfrom mne.decoding import Vectorizer\nfrom mne.preprocessing import XdawnTransformer\n\ndata_path = sample.data_path()\n\nraw_fname = data_path + '/MEG/sample/sample_audvis_filt-0-40_raw.fif'\nevent_fname = data_path + '/MEG/sample/sample_audvis_filt-0-40_raw-eve.fif'\ntmin, tmax = -0.2, 0.5\nevent_id = dict(aud_l=1, vis_l=3)\n\n# Setup for reading the raw data\nraw = io.read_raw_fif(raw_fname, preload=True)\nraw.filter(2., None, method='iir')\nevents = read_events(event_fname)\n\npicks = pick_types(raw.info, meg='mag', eeg=False, stim=False, eog=False,\n                   exclude='bads')\n\nepochs = Epochs(raw, events, event_id, tmin, tmax, proj=False,\n                picks=picks, baseline=None, preload=True, verbose=False)\n\nX = epochs.get_data()\ny = label_binarize(epochs.events[:, 2], classes=[1, 3]).ravel()\n\nclf = make_pipeline(XdawnTransformer(n_components=2),\n                    Vectorizer(),\n                    StandardScaler(),\n                    LogisticRegression())\n\n# Define a monte-carlo cross-validation generator (reduce variance):\ncv = ShuffleSplit(len(y), 10, test_size=0.2, random_state=42)\n\nscores = cross_val_score(clf, X, y, cv=cv)\n\nclass_balance = np.mean(y == y[0])\nclass_balance = max(class_balance, 1. - class_balance)\nprint(\"Classification accuracy: %f / Chance level: %f\" % (np.mean(scores),\n                                                          class_balance))"
      ], 
      "outputs": [], 
      "metadata": {
        "collapsed": false
      }
    }, 
    {
      "source": [
        "plot Xdawn patterns estimated on full data for visualization\n\n"
      ], 
      "cell_type": "markdown", 
      "metadata": {}
    }, 
    {
      "execution_count": null, 
      "cell_type": "code", 
      "source": [
        "xdawn = XdawnTransformer(n_components=2)\nxdawn.fit(X, y)\ndata = xdawn.patterns_\nfig, axes = plt.subplots(1, 4)\nfor idx in range(4):\n    plot_topomap(data[idx], epochs.info, axes=axes[idx], show=False)\nfig.suptitle('Xdawn patterns')\nfig.tight_layout()\nplt.show()"
      ], 
      "outputs": [], 
      "metadata": {
        "collapsed": false
      }
    }
  ], 
  "metadata": {
    "kernelspec": {
      "display_name": "Python 2", 
      "name": "python2", 
      "language": "python"
    }, 
    "language_info": {
      "mimetype": "text/x-python", 
      "nbconvert_exporter": "python", 
      "name": "python", 
      "file_extension": ".py", 
      "version": "2.7.12", 
      "pygments_lexer": "ipython2", 
      "codemirror_mode": {
        "version": 2, 
        "name": "ipython"
      }
    }
  }
}