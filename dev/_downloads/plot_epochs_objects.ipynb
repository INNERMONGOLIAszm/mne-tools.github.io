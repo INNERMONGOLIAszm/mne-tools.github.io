{
  "nbformat_minor": 0, 
  "nbformat": 4, 
  "cells": [
    {
      "execution_count": null, 
      "cell_type": "code", 
      "source": [
        "%matplotlib inline"
      ], 
      "outputs": [], 
      "metadata": {
        "collapsed": false
      }
    }, 
    {
      "source": [
        "\n.. _tut_epochs_objects:\n\nThe :class:`Epochs <mne.Epochs>` data structure: epoched data\n=============================================================\n"
      ], 
      "cell_type": "markdown", 
      "metadata": {}
    }, 
    {
      "execution_count": null, 
      "cell_type": "code", 
      "source": [
        "from __future__ import print_function\n\nimport mne\nimport os.path as op\nimport numpy as np\nfrom matplotlib import pyplot as plt"
      ], 
      "outputs": [], 
      "metadata": {
        "collapsed": false
      }
    }, 
    {
      "source": [
        ":class:`Epochs <mne.Epochs>` objects are a way of representing continuous\ndata as a collection of time-locked trials, stored in an array of\n`shape(n_events, n_channels, n_times)`. They are useful for many statistical\nmethods in neuroscience, and make it easy to quickly overview what occurs\nduring a trial.\n\n:class:`Epochs <mne.Epochs>` objects can be created in three ways:\n 1. From a :class:`Raw <mne.io.RawFIF>` object, along with event times\n 2. From an :class:`Epochs <mne.Epochs>` object that has been saved as a\n    `.fif` file\n 3. From scratch using :class:`EpochsArray <mne.EpochsArray>`\n"
      ], 
      "cell_type": "markdown", 
      "metadata": {}
    }, 
    {
      "execution_count": null, 
      "cell_type": "code", 
      "source": [
        "# Load a dataset that contains events\nraw = mne.io.RawFIF(\n    op.join(mne.datasets.sample.data_path(), 'MEG', 'sample',\n            'sample_audvis_raw.fif'))\n\n# If your raw object has a stim channel, you can construct an event array\n# easily\nevents = mne.find_events(raw, stim_channel='STI 014')\n\n# Show the number of events (number of rows)\nprint('Number of events:', len(events))\n\n# Show all unique event codes (3rd column)\nprint('Unique event codes:', np.unique(events[:, 2]))\n\n# Specify event codes of interest with descriptive labels\nevent_id = dict(left=1, right=2)"
      ], 
      "outputs": [], 
      "metadata": {
        "collapsed": false
      }
    }, 
    {
      "source": [
        "Now, we can create an :class:`mne.Epochs` object with the events we've\nextracted. Note that epochs constructed in this manner will not have their\ndata available until explicitly read into memory, which you can do with\n:func:`get_data <mne.Epochs.get_data>`. Alternatively, you can use\n`preload=True`.\n\nNote that there are many options available when loading an\n:class:`mne.Epochs` object.  For more detailed information, see (**LINK TO\nEPOCHS LOADING TUTORIAL**)\n"
      ], 
      "cell_type": "markdown", 
      "metadata": {}
    }, 
    {
      "execution_count": null, 
      "cell_type": "code", 
      "source": [
        "# Expose the raw data as epochs, cut from -0.1 s to 1.0 s relative to the event\n# onsets\nepochs = mne.Epochs(raw, events, event_id, tmin=-0.1, tmax=1,\n                    baseline=(None, 0), preload=True)\nprint(epochs)"
      ], 
      "outputs": [], 
      "metadata": {
        "collapsed": false
      }
    }, 
    {
      "source": [
        "Epochs behave similarly to :class:`mne.io.Raw` objects. They have an\n:class:`info <mne.io.meas_info.Info>` attribute that has all of the same\ninformation, as well as a number of attributes unique to the events contained\nwithin the object.\n"
      ], 
      "cell_type": "markdown", 
      "metadata": {}
    }, 
    {
      "execution_count": null, 
      "cell_type": "code", 
      "source": [
        "print(epochs.events[:3], epochs.event_id, sep='\\n\\n')"
      ], 
      "outputs": [], 
      "metadata": {
        "collapsed": false
      }
    }, 
    {
      "source": [
        "You can select subsets of epochs by indexing the :class:`Epochs <mne.Epochs>`\nobject directly. Alternatively, if you have epoch names specified in\n`event_id` then you may index with strings instead.\n"
      ], 
      "cell_type": "markdown", 
      "metadata": {}
    }, 
    {
      "execution_count": null, 
      "cell_type": "code", 
      "source": [
        "print(epochs[1:5])\nprint(epochs['right'])"
      ], 
      "outputs": [], 
      "metadata": {
        "collapsed": false
      }
    }, 
    {
      "source": [
        "It is also possible to iterate through :class:`Epochs <mne.Epochs>` objects\nin this way. Note that behavior is different if you iterate on `Epochs`\ndirectly rather than indexing:\n"
      ], 
      "cell_type": "markdown", 
      "metadata": {}
    }, 
    {
      "execution_count": null, 
      "cell_type": "code", 
      "source": [
        "# These will be epochs objects\nfor i in range(3):\n    print(epochs[i])\n\n# These will be arrays\nfor ep in epochs[:2]:\n    print(ep)"
      ], 
      "outputs": [], 
      "metadata": {
        "collapsed": false
      }
    }, 
    {
      "source": [
        "If you wish to look at the average across trial types, then you may do so,\ncreating an `Evoked` object in the process.\n"
      ], 
      "cell_type": "markdown", 
      "metadata": {}
    }, 
    {
      "execution_count": null, 
      "cell_type": "code", 
      "source": [
        "ev_left = epochs['left'].average()\nev_right = epochs['right'].average()\n\nf, axs = plt.subplots(3, 2, figsize=(10, 5))\n_ = f.suptitle('Left / Right', fontsize=20)\n_ = ev_left.plot(axes=axs[:, 0], show=False)\n_ = ev_right.plot(axes=axs[:, 1], show=False)\nplt.tight_layout()"
      ], 
      "outputs": [], 
      "metadata": {
        "collapsed": false
      }
    }
  ], 
  "metadata": {
    "kernelspec": {
      "display_name": "Python 2", 
      "name": "python2", 
      "language": "python"
    }, 
    "language_info": {
      "mimetype": "text/x-python", 
      "nbconvert_exporter": "python", 
      "name": "python", 
      "file_extension": ".py", 
      "version": "2.7.11", 
      "pygments_lexer": "ipython2", 
      "codemirror_mode": {
        "version": 2, 
        "name": "ipython"
      }
    }
  }
}