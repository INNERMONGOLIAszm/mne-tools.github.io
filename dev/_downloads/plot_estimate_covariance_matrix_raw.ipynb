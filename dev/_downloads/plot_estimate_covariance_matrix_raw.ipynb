{
  "nbformat_minor": 0, 
  "nbformat": 4, 
  "cells": [
    {
      "execution_count": null, 
      "cell_type": "code", 
      "source": [
        "%matplotlib inline"
      ], 
      "outputs": [], 
      "metadata": {
        "collapsed": false
      }
    }, 
    {
      "source": [
        "\n# Estimate covariance matrix from a raw FIF file\n\n\n"
      ], 
      "cell_type": "markdown", 
      "metadata": {}
    }, 
    {
      "execution_count": null, 
      "cell_type": "code", 
      "source": [
        "# Author: Alexandre Gramfort <alexandre.gramfort@telecom-paristech.fr>\n#\n# License: BSD (3-clause)\n\nimport mne\nfrom mne import io\nfrom mne.datasets import sample\n\nprint(__doc__)\n\ndata_path = sample.data_path()\nfname = data_path + '/MEG/sample/sample_audvis_raw.fif'\n\nraw = io.read_raw_fif(fname)\n\ninclude = []  # or stim channels ['STI 014']\nraw.info['bads'] += ['EEG 053']  # bads + 1 more\n\n# pick EEG channels\npicks = mne.pick_types(raw.info, meg=True, eeg=True, stim=False, eog=True,\n                       include=include, exclude='bads')\n# setup rejection\nreject = dict(eeg=80e-6, eog=150e-6)\n\n# Compute the covariance from the raw data\ncov = mne.compute_raw_covariance(raw, picks=picks, reject=reject)\nprint(cov)"
      ], 
      "outputs": [], 
      "metadata": {
        "collapsed": false
      }
    }, 
    {
      "source": [
        "Show covariance\n"
      ], 
      "cell_type": "markdown", 
      "metadata": {}
    }, 
    {
      "execution_count": null, 
      "cell_type": "code", 
      "source": [
        "fig_cov, fig_svd = mne.viz.plot_cov(cov, raw.info, colorbar=True, proj=True)\n# try setting proj to False to see the effect"
      ], 
      "outputs": [], 
      "metadata": {
        "collapsed": false
      }
    }
  ], 
  "metadata": {
    "kernelspec": {
      "display_name": "Python 2", 
      "name": "python2", 
      "language": "python"
    }, 
    "language_info": {
      "mimetype": "text/x-python", 
      "nbconvert_exporter": "python", 
      "name": "python", 
      "file_extension": ".py", 
      "version": "2.7.11", 
      "pygments_lexer": "ipython2", 
      "codemirror_mode": {
        "version": 2, 
        "name": "ipython"
      }
    }
  }
}