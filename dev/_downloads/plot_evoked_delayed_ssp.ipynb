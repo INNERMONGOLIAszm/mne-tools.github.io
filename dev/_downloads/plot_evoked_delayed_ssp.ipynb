{
  "nbformat_minor": 0, 
  "nbformat": 4, 
  "cells": [
    {
      "execution_count": null, 
      "cell_type": "code", 
      "source": [
        "%matplotlib inline"
      ], 
      "outputs": [], 
      "metadata": {
        "collapsed": false
      }
    }, 
    {
      "source": [
        "\n# Create evoked objects in delayed SSP mode\n\n\nThis script shows how to apply SSP projectors delayed, that is,\nat the evoked stage. This is particularly useful to support decisions\nrelated to the trade-off between denoising and preserving signal.\nWe first will extract Epochs and create evoked objects\nwith the required settings for delayed SSP application.\nThen we will explore the impact of the particular SSP projectors\non the evoked data.\n\n"
      ], 
      "cell_type": "markdown", 
      "metadata": {}
    }, 
    {
      "execution_count": null, 
      "cell_type": "code", 
      "source": [
        "# Authors: Alexandre Gramfort <alexandre.gramfort@telecom-paristech.fr>\n#          Denis Engemann <denis.engemann@gmail.com>\n#\n# License: BSD (3-clause)\n\nimport matplotlib.pyplot as plt\nimport mne\nfrom mne import io\nfrom mne.datasets import sample\n\nprint(__doc__)\n\ndata_path = sample.data_path()"
      ], 
      "outputs": [], 
      "metadata": {
        "collapsed": false
      }
    }, 
    {
      "source": [
        "Set parameters\n"
      ], 
      "cell_type": "markdown", 
      "metadata": {}
    }, 
    {
      "execution_count": null, 
      "cell_type": "code", 
      "source": [
        "raw_fname = data_path + '/MEG/sample/sample_audvis_filt-0-40_raw.fif'\nevent_fname = data_path + '/MEG/sample/sample_audvis_filt-0-40_raw-eve.fif'\nevent_id, tmin, tmax = 1, -0.2, 0.5\n\n# Setup for reading the raw data\nraw = io.read_raw_fif(raw_fname, preload=True)\nraw.filter(1, 40, method='iir')\nevents = mne.read_events(event_fname)\n\n# pick magnetometer channels\npicks = mne.pick_types(raw.info, meg='mag', stim=False, eog=True,\n                       include=[], exclude='bads')\n\n# If we suspend SSP projection at the epochs stage we might reject\n# more epochs than necessary. To deal with this we set proj to `delayed`\n# while passing reject parameters. Each epoch will then be projected before\n# performing peak-to-peak amplitude rejection. If it survives the rejection\n# procedure the unprojected raw epoch will be employed instead.\n# As a consequence, the point in time at which the projection is applied will\n# not have impact on the final results.\n# We will make use of this function to prepare for interactively selecting\n# projections at the evoked stage.\n\nepochs = mne.Epochs(raw, events, event_id, tmin, tmax, picks=picks,\n                    baseline=None, reject=dict(mag=4e-12),\n                    proj='delayed')\n\nevoked = epochs.average()  # average epochs and get an Evoked dataset."
      ], 
      "outputs": [], 
      "metadata": {
        "collapsed": false
      }
    }, 
    {
      "source": [
        "Interactively select / deselect the SSP projection vectors\n"
      ], 
      "cell_type": "markdown", 
      "metadata": {}
    }, 
    {
      "execution_count": null, 
      "cell_type": "code", 
      "source": [
        "# Here we expose the details of how to apply SSPs reversibly\ntitle = 'Incremental SSP application'\n\n# let's first move the proj list to another location\nprojs, evoked.info['projs'] = evoked.info['projs'], []\nfig, axes = plt.subplots(2, 2)  # create 4 subplots for our four vectors\n\n# As the bulk of projectors was extracted from the same source, we can simply\n# iterate over our collection of projs and add them step by step to see how\n# the signals change as a function of the SSPs applied. As this operation\n# can't be undone we will operate on copies of the original evoked object to\n# keep things reversible.\n\nfor proj, ax in zip(projs, axes.flatten()):\n    evoked.add_proj(proj)  # add projection vectors loop by loop.\n    evoked.copy().apply_proj().plot(axes=ax)  # apply on a copy of evoked\n    ax.set_title('+ %s' % proj['desc'])  # extract description.\nplt.suptitle(title)\nmne.viz.tight_layout()\n\n# We also could have easily visualized the impact of single projection vectors\n# by deleting the vector directly after visualizing the changes.\n# E.g. had we appended the following line to our loop:\n#   `evoked.del_proj(-1)`\n\n# Often, it is desirable to interactively explore data. To make this more\n# convenient we can make use of the 'interactive' option. This will open a\n# check box that allows us to reversibly select projection vectors. Any\n# modification of the selection will immediately cause the figure to update.\n\nevoked.plot(proj='interactive')\n\n# Hint: the same works with evoked.plot_topomap"
      ], 
      "outputs": [], 
      "metadata": {
        "collapsed": false
      }
    }
  ], 
  "metadata": {
    "kernelspec": {
      "display_name": "Python 2", 
      "name": "python2", 
      "language": "python"
    }, 
    "language_info": {
      "mimetype": "text/x-python", 
      "nbconvert_exporter": "python", 
      "name": "python", 
      "file_extension": ".py", 
      "version": "2.7.11", 
      "pygments_lexer": "ipython2", 
      "codemirror_mode": {
        "version": 2, 
        "name": "ipython"
      }
    }
  }
}