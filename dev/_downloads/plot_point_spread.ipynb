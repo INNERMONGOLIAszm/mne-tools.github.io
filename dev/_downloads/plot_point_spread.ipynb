{
  "nbformat_minor": 0, 
  "nbformat": 4, 
  "cells": [
    {
      "execution_count": null, 
      "cell_type": "code", 
      "source": [
        "%matplotlib inline"
      ], 
      "outputs": [], 
      "metadata": {
        "collapsed": false
      }
    }, 
    {
      "source": [
        "\n.. _point_spread:\n\nCorrupt known signal with point spread\n======================================\n\nThe aim of this tutorial is to demonstrate how to put a known signal at a\ndesired location(s) in a :class:`mne.SourceEstimate` and then corrupt the\nsignal with point-spread by applying a forward and inverse solution.\n\n"
      ], 
      "cell_type": "markdown", 
      "metadata": {}
    }, 
    {
      "execution_count": null, 
      "cell_type": "code", 
      "source": [
        "import os.path as op\n\nimport numpy as np\n\nimport mne\nfrom mne.datasets import sample\n\nfrom mne.minimum_norm import read_inverse_operator, apply_inverse\nfrom mne.simulation import simulate_stc, simulate_evoked"
      ], 
      "outputs": [], 
      "metadata": {
        "collapsed": false
      }
    }, 
    {
      "source": [
        "First, we set some parameters.\n\n"
      ], 
      "cell_type": "markdown", 
      "metadata": {}
    }, 
    {
      "execution_count": null, 
      "cell_type": "code", 
      "source": [
        "seed = 42\n\n# parameters for inverse method\nmethod = 'sLORETA'\nsnr = 3.\nlambda2 = 1.0 / snr ** 2\n\n# signal simulation parameters\n# do not add extra noise to the known signals\nevoked_snr = np.inf\nT = 100\ntimes = np.linspace(0, 1, T)\ndt = times[1] - times[0]\n\n# Paths to MEG data\ndata_path = sample.data_path()\nsubjects_dir = op.join(data_path, 'subjects')\nfname_fwd = op.join(data_path, 'MEG', 'sample',\n                    'sample_audvis-meg-oct-6-fwd.fif')\nfname_inv = op.join(data_path, 'MEG', 'sample',\n                    'sample_audvis-meg-oct-6-meg-fixed-inv.fif')\n\nfname_evoked = op.join(data_path, 'MEG', 'sample',\n                       'sample_audvis-ave.fif')"
      ], 
      "outputs": [], 
      "metadata": {
        "collapsed": false
      }
    }, 
    {
      "source": [
        "Load the MEG data\n-----------------\n\n"
      ], 
      "cell_type": "markdown", 
      "metadata": {}
    }, 
    {
      "execution_count": null, 
      "cell_type": "code", 
      "source": [
        "fwd = mne.read_forward_solution(fname_fwd, force_fixed=True,\n                                surf_ori=True)\nfwd['info']['bads'] = []\ninv_op = read_inverse_operator(fname_inv)\n\nraw = mne.io.RawFIF(op.join(data_path, 'MEG', 'sample',\n                            'sample_audvis_raw.fif'))\nevents = mne.find_events(raw)\nevent_id = {'Auditory/Left': 1, 'Auditory/Right': 2}\nepochs = mne.Epochs(raw, events, event_id, baseline=(None, 0), preload=True)\nepochs.info['bads'] = []\nevoked = epochs.average()\n\nlabels = mne.read_labels_from_annot('sample', subjects_dir=subjects_dir)\nlabel_names = [l.name for l in labels]\nn_labels = len(labels)"
      ], 
      "outputs": [], 
      "metadata": {
        "collapsed": false
      }
    }, 
    {
      "source": [
        "Estimate the background noise covariance from the baseline period\n-----------------------------------------------------------------\n\n"
      ], 
      "cell_type": "markdown", 
      "metadata": {}
    }, 
    {
      "execution_count": null, 
      "cell_type": "code", 
      "source": [
        "cov = mne.compute_covariance(epochs, tmin=None, tmax=0.)"
      ], 
      "outputs": [], 
      "metadata": {
        "collapsed": false
      }
    }, 
    {
      "source": [
        "Generate sinusoids in two spatially distant labels\n--------------------------------------------------\n\n"
      ], 
      "cell_type": "markdown", 
      "metadata": {}
    }, 
    {
      "execution_count": null, 
      "cell_type": "code", 
      "source": [
        "# The known signal is all zero-s off of the two labels of interest\nsignal = np.zeros((n_labels, T))\nidx = label_names.index('inferiorparietal-lh')\nsignal[idx, :] = 1e-7 * np.sin(5 * 2 * np.pi * times)\nidx = label_names.index('rostralmiddlefrontal-rh')\nsignal[idx, :] = 1e-7 * np.sin(7 * 2 * np.pi * times)"
      ], 
      "outputs": [], 
      "metadata": {
        "collapsed": false
      }
    }, 
    {
      "source": [
        "Find the center vertices in source space of each label\n------------------------------------------------------\n\nWe want the known signal in each label to only be active at the center. We\ncreate a mask for each label that is 1 at the center vertex and 0 at all\nother vertices in the label. This mask is then used when simulating\nsource-space data.\n\n"
      ], 
      "cell_type": "markdown", 
      "metadata": {}
    }, 
    {
      "execution_count": null, 
      "cell_type": "code", 
      "source": [
        "hemi_to_ind = {'lh': 0, 'rh': 1}\nfor i, label in enumerate(labels):\n    # The `center_of_mass` function needs labels to have values.\n    labels[i].values.fill(1.)\n\n    # Restrict the eligible vertices to be those on the surface under\n    # consideration and within the label.\n    surf_vertices = fwd['src'][hemi_to_ind[label.hemi]]['vertno']\n    restrict_verts = np.intersect1d(surf_vertices, label.vertices)\n    com = labels[i].center_of_mass(subject='sample',\n                                   subjects_dir=subjects_dir,\n                                   restrict_vertices=restrict_verts,\n                                   surf='white')\n\n    # Convert the center of vertex index from surface vertex list to Label's\n    # vertex list.\n    cent_idx = np.where(label.vertices == com)[0][0]\n\n    # Create a mask with 1 at center vertex and zeros elsewhere.\n    labels[i].values.fill(0.)\n    labels[i].values[cent_idx] = 1."
      ], 
      "outputs": [], 
      "metadata": {
        "collapsed": false
      }
    }, 
    {
      "source": [
        "Create source-space data with known signals\n-------------------------------------------\n\nPut known signals onto surface vertices using the array of signals and\nthe label masks (stored in labels[i].values).\n\n"
      ], 
      "cell_type": "markdown", 
      "metadata": {}
    }, 
    {
      "execution_count": null, 
      "cell_type": "code", 
      "source": [
        "stc_gen = simulate_stc(fwd['src'], labels, signal, times[0], dt,\n                       value_fun=lambda x: x)"
      ], 
      "outputs": [], 
      "metadata": {
        "collapsed": false
      }
    }, 
    {
      "source": [
        "Plot original signals\n---------------------\n\nNote that the original signals are highly concentrated (point) sources.\n\n\n"
      ], 
      "cell_type": "markdown", 
      "metadata": {}
    }, 
    {
      "execution_count": null, 
      "cell_type": "code", 
      "source": [
        "kwargs = dict(subjects_dir=subjects_dir, hemi='split', views=['lat', 'med'],\n              smoothing_steps=4, time_unit='s', initial_time=0.05)\nclim = dict(kind='value', pos_lims=[1e-9, 1e-8, 1e-7])\nbrain_gen = stc_gen.plot(clim=clim, **kwargs)"
      ], 
      "outputs": [], 
      "metadata": {
        "collapsed": false
      }
    }, 
    {
      "source": [
        "Simulate sensor-space signals\n-----------------------------\n\nUse the forward solution and add Gaussian noise to simulate sensor-space\n(evoked) data from the known source-space signals. The amount of noise is\ncontrolled by `evoked_snr` (higher values imply less noise).\n\n\n"
      ], 
      "cell_type": "markdown", 
      "metadata": {}
    }, 
    {
      "execution_count": null, 
      "cell_type": "code", 
      "source": [
        "evoked_gen = simulate_evoked(fwd, stc_gen, evoked.info, cov, evoked_snr,\n                             tmin=0., tmax=1., random_state=seed)\n\n# Map the simulated sensor-space data to source-space using the inverse\n# operator.\nstc_inv = apply_inverse(evoked_gen, inv_op, lambda2, method=method)"
      ], 
      "outputs": [], 
      "metadata": {
        "collapsed": false
      }
    }, 
    {
      "source": [
        "Plot the point-spread of corrupted signal\n-----------------------------------------\n\nNotice that after applying the forward- and inverse-operators to the known\npoint sources that the point sources have spread across the source-space.\nThis spread is due to the minimum norm solution so that the signal leaks to\nnearby vertices with similar orientations so that signal ends up crossing the\nsulci and gyri.\n\n"
      ], 
      "cell_type": "markdown", 
      "metadata": {}
    }, 
    {
      "execution_count": null, 
      "cell_type": "code", 
      "source": [
        "brain_inv = stc_inv.plot(**kwargs)"
      ], 
      "outputs": [], 
      "metadata": {
        "collapsed": false
      }
    }, 
    {
      "source": [
        "Exercises\n---------\n   - Change the `method` parameter to either `dSPM` or `MNE` to explore the\n     effect of the inverse method.\n   - Try setting `evoked_snr` to a small, finite value, e.g. 3., to see the\n     effect of noise.\n\n"
      ], 
      "cell_type": "markdown", 
      "metadata": {}
    }
  ], 
  "metadata": {
    "kernelspec": {
      "display_name": "Python 2", 
      "name": "python2", 
      "language": "python"
    }, 
    "language_info": {
      "mimetype": "text/x-python", 
      "nbconvert_exporter": "python", 
      "name": "python", 
      "file_extension": ".py", 
      "version": "2.7.12", 
      "pygments_lexer": "ipython2", 
      "codemirror_mode": {
        "version": 2, 
        "name": "ipython"
      }
    }
  }
}