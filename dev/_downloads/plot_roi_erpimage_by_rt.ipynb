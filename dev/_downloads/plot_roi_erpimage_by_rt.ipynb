{
  "cells": [
    {
      "cell_type": "code",
      "execution_count": null,
      "metadata": {
        "collapsed": false
      },
      "outputs": [],
      "source": [
        "%matplotlib inline"
      ]
    },
    {
      "cell_type": "markdown",
      "metadata": {},
      "source": [
        "\n===========================================================\nPlot single trial activity, grouped by ROI and sorted by RT\n===========================================================\n\nThis will produce what is sometimes called an event related\npotential / field (ERP/ERF) image.\n\nThe EEGLAB example file - containing an experiment with button press responses\nto simple visual stimuli - is read in and response times are calculated.\nRegions of Interest are determined by the channel types (in 10/20 channel\nnotation, even channels are right, odd are left, and 'z' are central). The\nmedian and the Global Field Power within each channel group is calculated,\nand the trials are plotted, sorting by response time.\n\n"
      ]
    },
    {
      "cell_type": "code",
      "execution_count": null,
      "metadata": {
        "collapsed": false
      },
      "outputs": [],
      "source": [
        "# Authors: Jona Sassenhagen <jona.sassenhagen@gmail.com>\n#\n# License: BSD (3-clause)\n\nimport mne\nfrom mne.datasets import testing\nfrom mne import Epochs, io, pick_types\nfrom mne.event import define_target_events\n\nprint(__doc__)"
      ]
    },
    {
      "cell_type": "markdown",
      "metadata": {},
      "source": [
        "Load EEGLAB example data (a small EEG dataset)\n\n"
      ]
    },
    {
      "cell_type": "code",
      "execution_count": null,
      "metadata": {
        "collapsed": false
      },
      "outputs": [],
      "source": [
        "data_path = testing.data_path()\nfname = data_path + \"/EEGLAB/test_raw.set\"\nmontage = data_path + \"/EEGLAB/test_chans.locs\"\n\nevent_id = {\"rt\": 1, \"square\": 2}  # must be specified for str events\neog = {\"FPz\", \"EOG1\", \"EOG2\"}\nraw = io.eeglab.read_raw_eeglab(fname, eog=eog, montage=montage,\n                                event_id=event_id)\npicks = pick_types(raw.info, eeg=True)\nevents = mne.find_events(raw)"
      ]
    },
    {
      "cell_type": "markdown",
      "metadata": {},
      "source": [
        "Create Epochs\n\n"
      ]
    },
    {
      "cell_type": "code",
      "execution_count": null,
      "metadata": {
        "collapsed": false
      },
      "outputs": [],
      "source": [
        "# define target events:\n# 1. find response times: distance between \"square\" and \"rt\" events\n# 2. extract A. \"square\" events B. followed by a button press within 700 msec\ntmax = .7\nsfreq = raw.info[\"sfreq\"]\nreference_id, target_id = 2, 1\nnew_events, rts = define_target_events(events, reference_id, target_id, sfreq,\n                                       tmin=0., tmax=tmax, new_id=2)\n\nepochs = Epochs(raw, events=new_events, tmax=tmax + .1,\n                event_id={\"square\": 2}, picks=picks)"
      ]
    },
    {
      "cell_type": "markdown",
      "metadata": {},
      "source": [
        "Plot\n\n"
      ]
    },
    {
      "cell_type": "code",
      "execution_count": null,
      "metadata": {
        "collapsed": false
      },
      "outputs": [],
      "source": [
        "# Parameters for plotting\norder = rts.argsort()  # sorting from fast to slow trials\n\nrois = dict()\nfor pick, channel in enumerate(epochs.ch_names):\n    last_char = channel[-1]  # for 10/20, last letter codes the hemisphere\n    roi = (\"Midline\" if last_char in \"z12\" else\n           (\"Left\" if int(last_char) % 2 else \"Right\"))\n    rois[roi] = rois.get(roi, list()) + [pick]\n\n# The actual plots\nfor combine_measures in ('gfp', 'median'):\n    epochs.plot_image(group_by=rois, order=order, overlay_times=rts / 1000.,\n                      sigma=1.5, combine=combine_measures,\n                      ts_args=dict(vlines=[0, rts.mean() / 1000.]))"
      ]
    }
  ],
  "metadata": {
    "kernelspec": {
      "display_name": "Python 3",
      "language": "python",
      "name": "python3"
    },
    "language_info": {
      "codemirror_mode": {
        "name": "ipython",
        "version": 3
      },
      "file_extension": ".py",
      "mimetype": "text/x-python",
      "name": "python",
      "nbconvert_exporter": "python",
      "pygments_lexer": "ipython3",
      "version": "3.6.5"
    }
  },
  "nbformat": 4,
  "nbformat_minor": 0
}