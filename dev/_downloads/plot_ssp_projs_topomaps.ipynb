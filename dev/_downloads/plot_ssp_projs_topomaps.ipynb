{
  "nbformat_minor": 0, 
  "nbformat": 4, 
  "cells": [
    {
      "execution_count": null, 
      "cell_type": "code", 
      "source": [
        "%matplotlib inline"
      ], 
      "outputs": [], 
      "metadata": {
        "collapsed": false
      }
    }, 
    {
      "source": [
        "\n# Plot SSP projections topographies\n\n\nThis example shows how to display topographies of SSP projection vectors.\nThe projections used are the ones correcting for ECG artifacts.\n"
      ], 
      "cell_type": "markdown", 
      "metadata": {}
    }, 
    {
      "execution_count": null, 
      "cell_type": "code", 
      "source": [
        "# Author: Alexandre Gramfort <alexandre.gramfort@telecom-paristech.fr>\n#         Denis A. Engemann <denis.engemann@gmail.com>\n#         Teon Brooks <teon.brooks@gmail.com>\n\n# License: BSD (3-clause)\n\nfrom mne import read_proj, read_evokeds\nfrom mne.datasets import sample\n\nprint(__doc__)\n\ndata_path = sample.data_path()\n\necg_fname = data_path + '/MEG/sample/sample_audvis_ecg-proj.fif'\nave_fname = data_path + '/MEG/sample/sample_audvis-ave.fif'\n\nevoked = read_evokeds(ave_fname, condition='Left Auditory',\n                      baseline=(None, 0.))\n\nprojs = read_proj(ecg_fname)\nevoked.add_proj(projs)\n\nevoked.plot_projs_topomap()"
      ], 
      "outputs": [], 
      "metadata": {
        "collapsed": false
      }
    }
  ], 
  "metadata": {
    "kernelspec": {
      "display_name": "Python 2", 
      "name": "python2", 
      "language": "python"
    }, 
    "language_info": {
      "mimetype": "text/x-python", 
      "nbconvert_exporter": "python", 
      "name": "python", 
      "file_extension": ".py", 
      "version": "2.7.11", 
      "pygments_lexer": "ipython2", 
      "codemirror_mode": {
        "version": 2, 
        "name": "ipython"
      }
    }
  }
}