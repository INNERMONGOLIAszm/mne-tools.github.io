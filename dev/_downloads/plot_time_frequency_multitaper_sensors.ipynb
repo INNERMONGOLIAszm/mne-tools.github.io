{
  "nbformat_minor": 0, 
  "nbformat": 4, 
  "cells": [
    {
      "execution_count": null, 
      "cell_type": "code", 
      "source": [
        "%matplotlib inline"
      ], 
      "outputs": [], 
      "metadata": {
        "collapsed": false
      }
    }, 
    {
      "source": [
        "\n# Time-frequency analysis using multitaper method\n\n\nThis examples computes induced power and intertrial\ncoherence (ITC) using a multitaper method on a somato sensory MEG data.\nThe power plot is rendered so that baseline is mean zero.\n"
      ], 
      "cell_type": "markdown", 
      "metadata": {}
    }, 
    {
      "execution_count": null, 
      "cell_type": "code", 
      "source": [
        "# Authors: Hari Bharadwaj <hari@nmr.mgh.harvard.edu>\n#\n# License: BSD (3-clause)\n\nimport numpy as np\n\nimport mne\nfrom mne import io\nfrom mne.time_frequency import tfr_multitaper\nfrom mne.datasets import somato\n\nprint(__doc__)"
      ], 
      "outputs": [], 
      "metadata": {
        "collapsed": false
      }
    }, 
    {
      "source": [
        "Load real somatosensory sample data.\n"
      ], 
      "cell_type": "markdown", 
      "metadata": {}
    }, 
    {
      "execution_count": null, 
      "cell_type": "code", 
      "source": [
        "data_path = somato.data_path()\nraw_fname = data_path + '/MEG/somato/sef_raw_sss.fif'\nevent_id, tmin, tmax = 1, -1., 3.\n\n# Setup for reading the raw data\nraw = io.read_raw_fif(raw_fname)\nbaseline = (None, 0)\nevents = mne.find_events(raw, stim_channel='STI 014')\n\n# Pick a good channel for somatosensory responses.\npicks = [raw.info['ch_names'].index('MEG 1142'), ]\n\nepochs = mne.Epochs(raw, events, event_id, tmin, tmax, picks=picks,\n                    baseline=baseline, reject=dict(grad=4000e-13))"
      ], 
      "outputs": [], 
      "metadata": {
        "collapsed": false
      }
    }, 
    {
      "source": [
        "Calculate power\n"
      ], 
      "cell_type": "markdown", 
      "metadata": {}
    }, 
    {
      "execution_count": null, 
      "cell_type": "code", 
      "source": [
        "freqs = np.arange(5., 50., 2.)  # define frequencies of interest\nn_cycles = freqs / 2.  # 0.5 second time windows for all frequencies\n\n# Choose time x (full) bandwidth product\ntime_bandwidth = 4.0  # With 0.5 s time windows, this gives 8 Hz smoothing\n\npower, itc = tfr_multitaper(epochs, freqs=freqs, n_cycles=n_cycles,\n                            use_fft=True, time_bandwidth=time_bandwidth,\n                            return_itc=True, n_jobs=1)\n\n# Plot results (with baseline correction only for power)\npower.plot([0], baseline=(-0.5, 0), mode='mean', title='MEG 1142 - Power')\nitc.plot([0], title='MEG 1142 - Intertrial Coherence')"
      ], 
      "outputs": [], 
      "metadata": {
        "collapsed": false
      }
    }
  ], 
  "metadata": {
    "kernelspec": {
      "display_name": "Python 2", 
      "name": "python2", 
      "language": "python"
    }, 
    "language_info": {
      "mimetype": "text/x-python", 
      "nbconvert_exporter": "python", 
      "name": "python", 
      "file_extension": ".py", 
      "version": "2.7.11", 
      "pygments_lexer": "ipython2", 
      "codemirror_mode": {
        "version": 2, 
        "name": "ipython"
      }
    }
  }
}