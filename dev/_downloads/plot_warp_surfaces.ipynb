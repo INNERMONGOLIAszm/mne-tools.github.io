{
  "nbformat_minor": 0, 
  "nbformat": 4, 
  "cells": [
    {
      "execution_count": null, 
      "cell_type": "code", 
      "source": [
        "%matplotlib inline"
      ], 
      "outputs": [], 
      "metadata": {
        "collapsed": false
      }
    }, 
    {
      "source": [
        "\n# Warp head shapes between subjects\n\n\nIn this example, we warp data from one subject (sample) to another (fsaverage)\nusing a spherical harmonic approximation of surfaces, followed by thin-plate\nspline (TPS) warping of the surface coordinates, as described in [1]_.\n\nReferences\n----------\n.. [1] Darvas F, Ermer JJ, Mosher JC, Leahy RM (2006). \"Generic head models for\n       atlas-based EEG source analysis.\" Human Brain Mapping 27:129-143\n\n"
      ], 
      "cell_type": "markdown", 
      "metadata": {}
    }, 
    {
      "execution_count": null, 
      "cell_type": "code", 
      "source": [
        "# Author: Eric Larson <larson.eric.d@gmail.com>\n#\n# License: BSD (3-clause)\n\nimport os.path as op\n\nimport mne\n\nfsaverage_path = op.join(op.dirname(mne.__file__), 'data', 'fsaverage')\ndata_path = mne.datasets.sample.data_path()\nsubjects_dir = op.join(data_path, 'subjects')"
      ], 
      "outputs": [], 
      "metadata": {
        "collapsed": false
      }
    }, 
    {
      "source": [
        "Load the source digitization, destination surfaces, and source surfaces\n(with everything in head coordinates):\n\n"
      ], 
      "cell_type": "markdown", 
      "metadata": {}
    }, 
    {
      "execution_count": null, 
      "cell_type": "code", 
      "source": [
        "# Digitization\ninfo = mne.io.read_info(op.join(data_path, 'MEG', 'sample',\n                                'sample_audvis_raw.fif'))\nhsp = mne.bem.get_fitting_dig(info, ('cardinal', 'extra'))\n\n# Destination head surface\nfsaverage_surfs = [mne.read_bem_surfaces(op.join(fsaverage_path,\n                                                 'fsaverage-%s.fif' % kind))[0]\n                   for kind in ('head', 'inner_skull-bem')]\nfsaverage_trans = mne.read_trans(op.join(fsaverage_path,\n                                         'fsaverage-trans.fif'))\nfor surf in fsaverage_surfs:\n    mne.surface.transform_surface_to(surf, 'head', fsaverage_trans, copy=False)\n\n# Some source surfaces to transform as examples\nsample_surfs = mne.read_bem_surfaces(\n    op.join(subjects_dir, 'sample', 'bem', 'sample-5120-bem.fif'))\nsample_trans = mne.read_trans(op.join(data_path, 'MEG', 'sample',\n                                      'sample_audvis_raw-trans.fif'))\nfor surf in sample_surfs:\n    mne.surface.transform_surface_to(surf, 'head', sample_trans, copy=False)"
      ], 
      "outputs": [], 
      "metadata": {
        "collapsed": false
      }
    }, 
    {
      "source": [
        "Transform surfaces using TPS warping:\n\n"
      ], 
      "cell_type": "markdown", 
      "metadata": {}
    }, 
    {
      "execution_count": null, 
      "cell_type": "code", 
      "source": [
        "warp = mne.transforms.SphericalSurfaceWarp()\nwarp.fit(source=hsp, destination=fsaverage_surfs[0]['rr'])\nfor surf in sample_surfs:\n    surf['rr'] = warp.transform(surf['rr'])\n    # recompute our normals (only used for viz here)\n    mne.surface.complete_surface_info(surf, copy=False)\nhsp = warp.transform(hsp)"
      ], 
      "outputs": [], 
      "metadata": {
        "collapsed": false
      }
    }, 
    {
      "source": [
        "Plot the transformed surfaces and digitization (blue) on template (black):\n\n"
      ], 
      "cell_type": "markdown", 
      "metadata": {}
    }, 
    {
      "execution_count": null, 
      "cell_type": "code", 
      "source": [
        "from mayavi import mlab  # noqa\n\nt_color = (0.1, 0.3, 1)\nfig = mlab.figure(size=(400, 600), bgcolor=(1., 1., 1.))\nfor surf, color in zip(fsaverage_surfs + sample_surfs,\n                       [(0., 0., 0.)] * len(fsaverage_surfs) +\n                       [t_color] * len(sample_surfs)):\n    mesh = mlab.pipeline.triangular_mesh_source(\n        *surf['rr'].T, triangles=surf['tris'])\n    mesh.data.point_data.normals = surf['nn']\n    mesh.data.cell_data.normals = None\n    surf = mlab.pipeline.surface(mesh, figure=fig, reset_zoom=True,\n                                 opacity=0.33, color=color)\n    surf.actor.property.backface_culling = True\nmlab.points3d(hsp[:, 0], hsp[:, 1], hsp[:, 2], color=t_color,\n              scale_factor=0.005, opacity=0.25)\nmlab.view(45, 90)"
      ], 
      "outputs": [], 
      "metadata": {
        "collapsed": false
      }
    }
  ], 
  "metadata": {
    "kernelspec": {
      "display_name": "Python 2", 
      "name": "python2", 
      "language": "python"
    }, 
    "language_info": {
      "mimetype": "text/x-python", 
      "nbconvert_exporter": "python", 
      "name": "python", 
      "file_extension": ".py", 
      "version": "2.7.13", 
      "pygments_lexer": "ipython2", 
      "codemirror_mode": {
        "version": 2, 
        "name": "ipython"
      }
    }
  }
}