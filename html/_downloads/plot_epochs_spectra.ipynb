{
  "nbformat_minor": 0, 
  "nbformat": 4, 
  "cells": [
    {
      "execution_count": null, 
      "cell_type": "code", 
      "source": [
        "%matplotlib inline"
      ], 
      "outputs": [], 
      "metadata": {
        "collapsed": false
      }
    }, 
    {
      "source": [
        "\n# Compute the power spectral density of epochs\n\n\nThis script shows how to compute the power spectral density (PSD)\nof measurements on epochs. It also shows how to plot its spatial\ndistribution.\n"
      ], 
      "cell_type": "markdown", 
      "metadata": {}
    }, 
    {
      "execution_count": null, 
      "cell_type": "code", 
      "source": [
        "# Authors: Denis Engemann <denis.engemann@gmail.com>\n#\n# License: BSD (3-clause)\n\nimport numpy as np\nimport matplotlib.pyplot as plt\n\nimport mne\nfrom mne import io\nfrom mne.datasets import sample\nfrom mne.time_frequency import psd_multitaper\n\nprint(__doc__)"
      ], 
      "outputs": [], 
      "metadata": {
        "collapsed": false
      }
    }, 
    {
      "source": [
        "Set parameters\n"
      ], 
      "cell_type": "markdown", 
      "metadata": {}
    }, 
    {
      "execution_count": null, 
      "cell_type": "code", 
      "source": [
        "data_path = sample.data_path()\nraw_fname = data_path + '/MEG/sample/sample_audvis_raw.fif'\nevent_fname = data_path + '/MEG/sample/sample_audvis_raw-eve.fif'\n\n# Setup for reading the raw data\nraw = io.Raw(raw_fname)\nevents = mne.read_events(event_fname)\n\ntmin, tmax, event_id = -1., 1., 1\nraw.info['bads'] += ['MEG 2443']  # bads\n\nepochs = mne.Epochs(raw, events, event_id, tmin, tmax,\n                    proj=True, baseline=(None, 0), preload=True,\n                    reject=dict(grad=4000e-13, eog=150e-6))\n# Pull 2**n points to speed up computation\ntmax = tmin + 1023. / raw.info['sfreq']\nepochs.crop(None, tmax)\n\n# Let's first check out all channel types by averaging across epochs.\nepochs.plot_psd(fmin=2, fmax=200)\n\n# picks MEG gradiometers\npicks = mne.pick_types(raw.info, meg='grad', eeg=False, eog=False,\n                       stim=False, exclude='bads')\n\n# Now let's take a look at the spatial distributions of the psd.\nepochs.plot_psd_topomap(ch_type='grad', normalize=True)\n\n# Alternatively, you may also create PSDs from Epochs objects with psd_XXX\nf, ax = plt.subplots()\npsds, freqs = psd_multitaper(epochs, fmin=2, fmax=200, picks=picks, n_jobs=1)\npsds = 10 * np.log10(psds)\npsds_mean = psds.mean(0).mean(0)\npsds_std = psds.mean(0).std(0)\n\nax.plot(freqs, psds_mean, color='k')\nax.fill_between(freqs, psds_mean - psds_std, psds_mean + psds_std,\n                color='k', alpha=.5)\nax.set(title='Multitaper PSD (gradiometers)', xlabel='Frequency',\n       ylabel='Power Spectral Density (dB)')\nplt.show()"
      ], 
      "outputs": [], 
      "metadata": {
        "collapsed": false
      }
    }
  ], 
  "metadata": {
    "kernelspec": {
      "display_name": "Python 2", 
      "name": "python2", 
      "language": "python"
    }, 
    "language_info": {
      "mimetype": "text/x-python", 
      "nbconvert_exporter": "python", 
      "name": "python", 
      "file_extension": ".py", 
      "version": "2.7.11", 
      "pygments_lexer": "ipython2", 
      "codemirror_mode": {
        "version": 2, 
        "name": "ipython"
      }
    }
  }
}