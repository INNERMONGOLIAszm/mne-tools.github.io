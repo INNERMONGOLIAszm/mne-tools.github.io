{
  "cells": [
    {
      "cell_type": "code",
      "execution_count": null,
      "metadata": {
        "collapsed": false
      },
      "outputs": [],
      "source": [
        "%matplotlib inline"
      ]
    },
    {
      "cell_type": "markdown",
      "metadata": {},
      "source": [
        "\n# Statistical inference\n\n\nHere we will briefly cover multiple concepts of inferential statistics in an\nintroductory manner, and demonstrate how to use some MNE statistical functions.\n   :depth: 3\n\n\n"
      ]
    },
    {
      "cell_type": "code",
      "execution_count": null,
      "metadata": {
        "collapsed": false
      },
      "outputs": [],
      "source": [
        "# Authors: Eric Larson <larson.eric.d@gmail.com>\n# License: BSD (3-clause)\n\nfrom functools import partial\n\nimport numpy as np\nfrom scipy import stats\nimport matplotlib.pyplot as plt\nfrom mpl_toolkits.mplot3d import Axes3D  # noqa, analysis:ignore\n\nimport mne\nfrom mne.stats import (ttest_1samp_no_p, bonferroni_correction, fdr_correction,\n                       permutation_t_test, permutation_cluster_1samp_test)\n\nprint(__doc__)"
      ]
    },
    {
      "cell_type": "markdown",
      "metadata": {},
      "source": [
        "Hypothesis testing\n------------------\nNull hypothesis\n^^^^^^^^^^^^^^^\nFrom `Wikipedia <https://en.wikipedia.org/wiki/Null_hypothesis>`_:\n\n    In inferential statistics, a general statement or default position that\n    there is no relationship between two measured phenomena, or no\n    association among groups.\n\nWe typically want to reject a **null hypothesis** with\nsome probability level (e.g., p < 0.05).\nTo think about what this means, let's follow the illustrative example from\n[1]_ and construct a toy dataset consisting of a 40 x 40 square with a\n\"signal\" present in the center (at pixel [20, 20]) with white noise\nadded and a 5-pixel-SD normal smoothing kernel applied.\n\n"
      ]
    },
    {
      "cell_type": "code",
      "execution_count": null,
      "metadata": {
        "collapsed": false
      },
      "outputs": [],
      "source": [
        "width = 40\nn_subjects = 10\nsignal_mean = 100\nsignal_sd = 100\nnoise_sd = 0.01\ngaussian_sd = 5\nsigma = 1e-3  # sigma for the \"hat\" method\nthreshold = -stats.distributions.t.ppf(0.05, n_subjects - 1)\nn_permutations = 'all'  # run an exact test\nn_src = width * width\n\n# For each \"subject\", make a smoothed noisy signal with a centered peak\nrng = np.random.RandomState(42)\nX = noise_sd * rng.randn(n_subjects, width, width)\n# Add a signal at the dead center\nX[:, width // 2, width // 2] = signal_mean + rng.randn(n_subjects) * signal_sd\n# Spatially smooth with a 2D Gaussian kernel\nsize = width // 2 - 1\ngaussian = np.exp(-(np.arange(-size, size + 1) ** 2 / float(gaussian_sd ** 2)))\nfor si in range(X.shape[0]):\n    for ri in range(X.shape[1]):\n        X[si, ri, :] = np.convolve(X[si, ri, :], gaussian, 'same')\n    for ci in range(X.shape[2]):\n        X[si, :, ci] = np.convolve(X[si, :, ci], gaussian, 'same')"
      ]
    },
    {
      "cell_type": "markdown",
      "metadata": {},
      "source": [
        "In this case, a null hypothesis we could test for each voxel is:\n\n    There is no difference between the mean value and zero\n    ($H_0: \\mu = 0$).\n\nThe alternative hypothesis, then, is that the voxel has a non-zero mean.\nThis is a *two-tailed test* because the mean could be less than\nor greater than zero (whereas a *one-tailed test* would test only one of\nthese possibilities, i.e. $H_0: \\mu \\geq 0$ or\n$H_0: \\mu \\leq 0$).\n\n<div class=\"alert alert-info\"><h4>Note</h4><p>Here we will refer to each spatial location as a \"voxel\".\n          In general, though, it could be any sort of data value\n          (e.g., cortical vertex at a specific time, pixel in a\n          time-frequency decomposition, etc.).</p></div>\n\nParametric tests\n^^^^^^^^^^^^^^^^\nLet's start with a **1-sample t-test**, which is a standard test\nfor differences in paired sample means. This test is **parametric**,\nas it assumes that the underlying sample distribution is Gaussian, and is\nonly valid in this case. (This happens to be satisfied by our toy dataset,\nbut is not always satisfied for neuroimaging data.)\n\nIn the context of our toy dataset, which has many voxels, applying the\n1-sample t-test is called a *mass-univariate* approach as it treats\neach voxel independently.\n\n"
      ]
    },
    {
      "cell_type": "code",
      "execution_count": null,
      "metadata": {
        "collapsed": false
      },
      "outputs": [],
      "source": [
        "titles = ['t-statistic']\nout = stats.ttest_1samp(X, 0, axis=0)\nts = [out[0]]\nps = [out[1]]\nmccs = [False]  # these are not multiple-comparisons corrected\n\n\n# let's make a plotting function\ndef plot_t_p(t, p, title, mcc, axes=None):\n    if axes is None:\n        fig = plt.figure(figsize=(6, 3))\n        axes = [fig.add_subplot(121, projection='3d'), fig.add_subplot(122)]\n        show = True\n    else:\n        fig = axes[0].figure\n        show = False\n    p_lims = [0.05, 0.001]\n    t_lims = -stats.distributions.t.ppf(p_lims, n_subjects - 1)\n    p_lims = [-np.log10(0.05), -np.log10(0.001)]\n    # t plot\n    x, y = np.mgrid[0:width, 0:width]\n    surf = axes[0].plot_surface(x, y, np.reshape(t, (width, width)),\n                                rstride=1, cstride=1, linewidth=0,\n                                vmin=t_lims[0], vmax=t_lims[1], cmap='viridis')\n    axes[0].set(xticks=[], yticks=[], zticks=[],\n                xlim=[0, width - 1], ylim=[0, width - 1])\n    axes[0].view_init(30, 15)\n    cbar = plt.colorbar(ax=axes[0], shrink=0.75, orientation='horizontal',\n                        fraction=0.1, pad=0.025, mappable=surf)\n    cbar.set_ticks(t_lims)\n    cbar.set_ticklabels(['%0.1f' % t_lim for t_lim in t_lims])\n    cbar.set_label('t-value')\n    cbar.ax.get_xaxis().set_label_coords(0.5, -0.3)\n    if not show:\n        axes[0].set(title=title)\n        if mcc:\n            axes[0].title.set_weight('bold')\n    # p plot\n    use_p = -np.log10(np.reshape(np.maximum(p, 1e-5), (width, width)))\n    img = axes[1].imshow(use_p, cmap='inferno', vmin=p_lims[0], vmax=p_lims[1],\n                         interpolation='nearest')\n    axes[1].set(xticks=[], yticks=[])\n    cbar = plt.colorbar(ax=axes[1], shrink=0.75, orientation='horizontal',\n                        fraction=0.1, pad=0.025, mappable=img)\n    cbar.set_ticks(p_lims)\n    cbar.set_ticklabels(['%0.1f' % p_lim for p_lim in p_lims])\n    cbar.set_label('$-\\log_{10}(p)$')\n    cbar.ax.get_xaxis().set_label_coords(0.5, -0.3)\n    if show:\n        text = fig.suptitle(title)\n        if mcc:\n            text.set_weight('bold')\n        plt.subplots_adjust(0, 0.05, 1, 0.9, wspace=0, hspace=0)\n        mne.viz.utils.plt_show()\n\n\nplot_t_p(ts[-1], ps[-1], titles[-1], mccs[-1])"
      ]
    },
    {
      "cell_type": "markdown",
      "metadata": {},
      "source": [
        "\"hat\" variance adjustment\n~~~~~~~~~~~~~~~~~~~~~~~~~\nThe \"hat\" technique regularizes the variance values used in the t-test\ncalculation [1]_ to compensate for implausibly small variances.\n\n"
      ]
    },
    {
      "cell_type": "code",
      "execution_count": null,
      "metadata": {
        "collapsed": false
      },
      "outputs": [],
      "source": [
        "ts.append(ttest_1samp_no_p(X, sigma=sigma))\nps.append(stats.distributions.t.sf(np.abs(ts[-1]), len(X) - 1) * 2)\ntitles.append('$\\mathrm{t_{hat}}$')\nmccs.append(False)\nplot_t_p(ts[-1], ps[-1], titles[-1], mccs[-1])"
      ]
    },
    {
      "cell_type": "markdown",
      "metadata": {},
      "source": [
        "Non-parametric tests\n^^^^^^^^^^^^^^^^^^^^\nInstead of assuming an underlying Gaussian distribution, we could instead\nuse a **non-parametric resampling** method. Under the null hypothesis,\nwe have the principle of **exchangeability**, which means that, if the null\nis true, we should be able to exchange conditions and not change the\ndistribution of the test statistic.\n\nIn the case of a 2-tailed paired t-test against 0 (or between two conditions\nwhere you have already subtracted them), exchangeability means that we can\nflip the signs of our data. Therefore, we can construct the\n**null distribution** values by taking random subsets of samples (subjects),\nflipping the sign of their data, and recording the resulting statistic\nabsolute value. The absolute value of the statistic evaluated on the\nveridical data can then be compared to this distribution, and the p-value\nis simply the proportion of null distribution values that were smaller.\n\n<div class=\"alert alert-info\"><h4>Note</h4><p>In the case where ``n_permutations`` is large enough (or \"all\") so\n          that the complete set of unique resampling exchanges can be done\n          (which is $2^{N_{samp}}-1=1023$ for the one-tailed paired\n          test here, not counting the veridical distribution),\n          instead of randomly exchanging conditions the null is formed\n          from using all possible exchanges. This is known as a permutation\n          test (or exact test) form of a non-parametric resampling test.</p></div>\n\n"
      ]
    },
    {
      "cell_type": "code",
      "execution_count": null,
      "metadata": {
        "collapsed": false
      },
      "outputs": [],
      "source": [
        "# Here we have to do a bit of gymnastics to get our function to do\n# a permutation test without correcting for multiple comparisons:\n\n# Let's flatten the array for simplicity\nX.shape = (n_subjects, n_src)\ntitles.append('Permutation')\nts.append(np.zeros(width * width))\nps.append(np.zeros(width * width))\nmccs.append(False)\nfor ii in range(n_src):\n    ts[-1][ii], ps[-1][ii] = \\\n        permutation_t_test(X[:, [ii]], verbose=True if ii == 0 else False)[:2]\nplot_t_p(ts[-1], ps[-1], titles[-1], mccs[-1])"
      ]
    },
    {
      "cell_type": "markdown",
      "metadata": {},
      "source": [
        "Multiple comparisons\n--------------------\nSo far, we have done no correction for multiple comparisons. This is\npotentially problematic for these data because there are\n$40 \\times 40 = 1600$ tests being performed. If we just use\na threshold ``p < 0.05`` for all of our tests, we would expect many\nvoxels to be declared significant even if there were no true effect.\nIn other words, we would make many **type I errors** (adapted from\n`here <https://en.wikipedia.org/wiki/Type_I_and_type_II_errors>`_):\n\n.. rst-class:: skinnytable\n\n  +----------+--------+------------------+------------------+\n  |                   |          Null hypothesis            |\n  |                   +------------------+------------------+\n  |                   |       True       |       False      |\n  +==========+========+==================+==================+\n  |          |        | Type I error     | Correct          |\n  |          | Yes    |   False positive |   True positive  |\n  + Reject   +--------+------------------+------------------+\n  |          |        | Correct          | Type II error    |\n  |          | No     |   True Negative  |   False negative |\n  +----------+--------+------------------+------------------+\n\nTo see why, consider a standard $\\alpha = 0.05$.\nFor a single test, our probability of making a type I error is 0.05.\nThe probability of making at least one type I error in\n$N_{\\mathrm{test}}$ independent tests is then given by\n$1 - (1 - \\alpha)^{N_{\\mathrm{test}}}$:\n\n"
      ]
    },
    {
      "cell_type": "code",
      "execution_count": null,
      "metadata": {
        "collapsed": false
      },
      "outputs": [],
      "source": [
        "N = np.arange(1, 80)\nalpha = 0.05\np_type_I = 1 - (1 - alpha) ** N\nfig, ax = plt.subplots(figsize=(4, 3))\nax.scatter(N, p_type_I, 3)\nax.set(xlim=N[[0, -1]], ylim=[0, 1], xlabel='$N_{\\mathrm{test}}$',\n       ylabel=u'Probability of \u2265 1\\ntype I error')\nax.grid(True)\nfig.tight_layout()\nmne.viz.utils.plt_show()"
      ]
    },
    {
      "cell_type": "markdown",
      "metadata": {},
      "source": [
        "To combat this problem, multiple methods exist. Typically these\nprovide control over either the:\n\n1. `Familywise error rate (FWER) <fwer>`_\n     The probability of making one or more type I errors:\n\n     .. math::\n       \\mathrm{P}(N_{\\mathrm{type\\ I}} >= 1 | H_0)\n\n2. `False discovery rate (FDR) <fdr>`_\n     The expected proportion of rejected null hypotheses that are\n     actually true:\n\n     .. math::\n       \\mathrm{E}(N_{\\mathrm{type\\ I}} / N_{\\mathrm{reject}}\n       | N_{\\mathrm{reject}} > 0)\n       \\mathrm{P}(N_{\\mathrm{reject}} > 0 | H_0)\n\nWe cover some techniques that control FWER and FDR below.\n\nBonferroni correction\n^^^^^^^^^^^^^^^^^^^^^\nPerhaps the simplest way to deal with multiple comparisons, `Bonferroni\ncorrection <https://en.wikipedia.org/wiki/Bonferroni_correction>`_\nconservatively multiplies the p-values by the number of comparisons to\ncontrol the FWER.\n\n"
      ]
    },
    {
      "cell_type": "code",
      "execution_count": null,
      "metadata": {
        "collapsed": false
      },
      "outputs": [],
      "source": [
        "titles.append('Bonferroni')\nts.append(ts[-1])\nps.append(bonferroni_correction(ps[0])[1])\nmccs.append(True)\nplot_t_p(ts[-1], ps[-1], titles[-1], mccs[-1])"
      ]
    },
    {
      "cell_type": "markdown",
      "metadata": {},
      "source": [
        "False discovery rate (FDR) correction\n^^^^^^^^^^^^^^^^^^^^^^^^^^^^^^^^^^^^^\nTypically FDR is performed with the Benjamini/Hochberg procedure, which\nis less restrictive than Bonferroni correction for large numbers of\ncomparisons (fewer type II errors) but provides less strict control of\nerrors (more type I errors).\n\n"
      ]
    },
    {
      "cell_type": "code",
      "execution_count": null,
      "metadata": {
        "collapsed": false
      },
      "outputs": [],
      "source": [
        "titles.append('FDR')\nts.append(ts[-1])\nps.append(fdr_correction(ps[0])[1])\nmccs.append(True)\nplot_t_p(ts[-1], ps[-1], titles[-1], mccs[-1])"
      ]
    },
    {
      "cell_type": "markdown",
      "metadata": {},
      "source": [
        "Non-parametric resampling test with a maximum statistic\n^^^^^^^^^^^^^^^^^^^^^^^^^^^^^^^^^^^^^^^^^^^^^^^^^^^^^^^\n**Non-parametric resampling tests** can also be used to correct for multiple\ncomparisons. In its simplest form, we again do permutations using\nexchangeability under the null hypothesis, but this time we take the\n*maximum statistic across all tests* in each permutation to form the\nnull distribution. The p-value for each voxel from the veridical data\nis then given by the proportion of null distribtion values\nthat were smaller.\n\nThis method has two important features:\n\n1. It controls FWER.\n2. It is non-parametric. Even though our initial test statistic\n   (here a 1-sample t-test) for clustering is parametric, the null\n   distribution for the null hypothesis rejection (cluster size\n   distribution is indistinguishable from zero) is obtained by\n   permutations. This means that it makes no assumptions of Gaussianity\n   (which do hold for this example but do not in general for some types\n   of processed neuroimaging data).\n\n"
      ]
    },
    {
      "cell_type": "code",
      "execution_count": null,
      "metadata": {
        "collapsed": false
      },
      "outputs": [],
      "source": [
        "titles.append('$\\mathbf{Perm_{max}}$')\nout = permutation_t_test(X)[:2]\nts.append(out[0])\nps.append(out[1])\nmccs.append(True)\nplot_t_p(ts[-1], ps[-1], titles[-1], mccs[-1])"
      ]
    },
    {
      "cell_type": "markdown",
      "metadata": {},
      "source": [
        "Clustering\n^^^^^^^^^^\nEach of the aforementioned multiple comparisons corrections have the\ndisadvantage of not fully incorporating the correlation structure of the\ndata, i.e., that points close to one another (e.g., in space or time) tend\nto be correlated. However, by defining the connectivity/adjacency/neighbor\nstructure in our data, we can use **clustering** to compensate.\n\nTo use this, we need to rethink our null hypothesis. Instead\nof thinking about a null hypothesis about means per voxel (with one\nindependent test per voxel), we consider a null hypothesis about sizes\nof clusters in our data, which could be stated like:\n\n    The distribution of spatial cluster sizes observed in two experimental\n    conditions are drawn from the same probability distribution.\n\nHere we only have a single condition and we contrast to zero, which can\nbe thought of as:\n\n    The distribution of spatial cluster sizes is independent of the sign\n    of the data.\n\nIn this case, we again do permutations with a maximum statistic, but, under\neach permutation, we:\n\n1. Threshold the computed statistic with some **initial**\n   ``threshold`` value.\n2. Cluster points that exceed this threshold (with the same sign)\n   based on adjacency.\n3. Record the *size* of each cluster (measured, e.g., by a simple voxel\n   count, or by the sum of voxel t-values within the cluster).\n\nAfter doing these permutations, the cluster sizes in our veridical data\nare compared to this null distribution. The p-value associated with each\ncluster is again given by the proportion of smaller null distribution\nvalues. This can then be subjected to a standard p-value threshold\n(e.g., ``p < 0.05``) to reject the null hypothesis (i.e., find an effect\nof interest).\n\nThis reframing to consider *cluster sizes* rather than *individual means*\nmaintains the advantages of the standard non-parametric permutation\ntest -- namely controlling FWER and making no assumptions of parametric\ndata distribution.\nCricitally, though, it also accounts for the correlation structure in the\ndata -- which in this toy case is spatial but\nin general can be multidimensional (e.g., spatio-temporal) -- because the\nnull distribution will be derived from data in a way that preserves these\ncorrelations.\n\nHowever, there is a drawback. If a cluster significantly deviates from\nthe null, no further inference on the cluster (e.g., peak location) can be\nmade, as the entire cluster as a whole is used to reject the null.\nMoreover, because the test statistic concerns the full data, the null\nhypothesis (and our rejection of it) refers to the structure of the full\ndata. For more information, see also the\n`excellent FieldTrip cluster interpretation tutorial <ft_cluster>`_.\n\nDefining the connectivity/neighbor/adjacency matrix\n~~~~~~~~~~~~~~~~~~~~~~~~~~~~~~~~~~~~~~~~~~~~~~~~~~~\nFirst we need to define our connectivity/neighbor/adjacency matrix.\nThis is a square array (or sparse matrix) of shape ``(n_src, n_src)`` that\ncontains zeros and ones to define which spatial points are connected, i.e.,\nwhich voxels are adjacent to each other. In our case this\nis quite simple, as our data are aligned on a rectangular grid.\n\nLet's pretend that our data were smaller -- a 3x3 grid. Thinking about\neach voxel as being connected to the other voxels it touches, we would\nneed a 9x9 connectivity matrix. The first row should contain the elements\nin the ``.ravel()``'ed data that it touches. Since it touches the\nsecond element in the first row and the first element in the second row\n(and is also a neighbor to itself), this would be::\n\n    [1, 1, 0, 1, 0, 0, 0, 0, 0]\n\n:mod:`sklearn.feature_extraction` provides a convenient function for this:\n\n"
      ]
    },
    {
      "cell_type": "code",
      "execution_count": null,
      "metadata": {
        "collapsed": false
      },
      "outputs": [],
      "source": [
        "from sklearn.feature_extraction.image import grid_to_graph  # noqa: E402\nmini_connectivity = grid_to_graph(3, 3).toarray()\nassert mini_connectivity.shape == (9, 9)\nprint(mini_connectivity[0])\ndel mini_connectivity"
      ]
    },
    {
      "cell_type": "markdown",
      "metadata": {},
      "source": [
        "In general the connectivity between voxels can be more complex, such as\nthose between sensors in 3D space, or time-varying activation at brain\nvertices on a cortical surface. MNE provides several convenience functions\nfor computing connectivity/neighbor/adjacency matrices, see the\n`Statistics API <api_reference_statistics>`.\n\nStandard clustering\n~~~~~~~~~~~~~~~~~~~\nHere, since our data are on a grid, we can use ``connectivity=None`` to\ntrigger optimized grid-based code, and run the clustering algorithm.\n\n"
      ]
    },
    {
      "cell_type": "code",
      "execution_count": null,
      "metadata": {
        "collapsed": false
      },
      "outputs": [],
      "source": [
        "# Reshape data to what is equivalent to (n_samples, n_space, n_time)\ntitles.append('Clustering')\nX.shape = (n_subjects, width, width)\nt_clust, clusters, p_values, H0 = permutation_cluster_1samp_test(\n    X, n_jobs=1, threshold=threshold, connectivity=None, tail=1,\n    n_permutations=n_permutations)\n# Put the cluster data in a viewable format\np_clust = np.ones((width, width))\nfor cl, p in zip(clusters, p_values):\n    p_clust[cl] = p\nts.append(t_clust)\nps.append(p_clust)\nmccs.append(True)\nplot_t_p(ts[-1], ps[-1], titles[-1], mccs[-1])"
      ]
    },
    {
      "cell_type": "markdown",
      "metadata": {},
      "source": [
        "\"hat\" variance adjustment\n~~~~~~~~~~~~~~~~~~~~~~~~~\nThis method can also be used in this context to correct for small\nvariances [1]_:\n\n"
      ]
    },
    {
      "cell_type": "code",
      "execution_count": null,
      "metadata": {
        "collapsed": false
      },
      "outputs": [],
      "source": [
        "titles.append(r'$\\mathbf{C_{hat}}$')\nstat_fun_hat = partial(ttest_1samp_no_p, sigma=sigma)\nt_hat, clusters, p_values, H0 = permutation_cluster_1samp_test(\n    X, n_jobs=1, threshold=threshold, connectivity=None, tail=1,\n    n_permutations=n_permutations, stat_fun=stat_fun_hat, buffer_size=None)\np_hat = np.ones((width, width))\nfor cl, p in zip(clusters, p_values):\n    p_hat[cl] = p\nts.append(t_hat)\nps.append(p_hat)\nmccs.append(True)\nplot_t_p(ts[-1], ps[-1], titles[-1], mccs[-1])"
      ]
    },
    {
      "cell_type": "markdown",
      "metadata": {},
      "source": [
        "\nThreshold-free cluster enhancement (TFCE)\n~~~~~~~~~~~~~~~~~~~~~~~~~~~~~~~~~~~~~~~~~\nTFCE eliminates the free parameter initial ``threshold`` value that\ndetermines which points are included in clustering by approximating\na continuous integration across possible threshold values with a standard\n`Riemann sum <https://en.wikipedia.org/wiki/Riemann_sum>`_ [2]_.\nThis requires giving a starting threshold ``'start'`` and a step\nsize ``'step'``, which in MNE is supplied as a dict.\nThe smaller the ``'step'`` and closer to 0 the ``'start'`` value,\nthe better the approximation, but the longer it takes).\n\nA significant advantage of TFCE is that, rather than modifying the\nstatistical null hypothesis under test (from one about individual voxels\nto one about the distribution of clusters in the data), it modifies the *data\nunder test* while still controlling for multiple comparisons.\nThe statistical test is then done at the level of individual voxels rather\nthan clusters. This allows for evaluation of each point\nindependently for significance rather than only as cluster groups.\n\n"
      ]
    },
    {
      "cell_type": "code",
      "execution_count": null,
      "metadata": {
        "collapsed": false
      },
      "outputs": [],
      "source": [
        "titles.append(r'$\\mathbf{C_{TFCE}}$')\nthreshold_tfce = dict(start=0, step=0.2)\nt_tfce, _, p_tfce, H0 = permutation_cluster_1samp_test(\n    X, n_jobs=1, threshold=threshold_tfce, connectivity=None, tail=1,\n    n_permutations=n_permutations)\nts.append(t_tfce)\nps.append(p_tfce)\nmccs.append(True)\nplot_t_p(ts[-1], ps[-1], titles[-1], mccs[-1])"
      ]
    },
    {
      "cell_type": "markdown",
      "metadata": {},
      "source": [
        "We can also combine TFCE and the \"hat\" correction:\n\n"
      ]
    },
    {
      "cell_type": "code",
      "execution_count": null,
      "metadata": {
        "collapsed": false
      },
      "outputs": [],
      "source": [
        "titles.append(r'$\\mathbf{C_{hat,TFCE}}$')\nt_tfce_hat, _, p_tfce_hat, H0 = permutation_cluster_1samp_test(\n    X, n_jobs=1, threshold=threshold_tfce, connectivity=None, tail=1,\n    n_permutations=n_permutations, stat_fun=stat_fun_hat, buffer_size=None)\nts.append(t_tfce_hat)\nps.append(p_tfce_hat)\nmccs.append(True)\nplot_t_p(ts[-1], ps[-1], titles[-1], mccs[-1])"
      ]
    },
    {
      "cell_type": "markdown",
      "metadata": {},
      "source": [
        "Visualize and compare methods\n-----------------------------\nLet's take a look at these statistics. The top row shows each test statistic,\nand the bottom shows p-values for various statistical tests, with the ones\nwith proper control over FWER or FDR with bold titles.\n\n"
      ]
    },
    {
      "cell_type": "code",
      "execution_count": null,
      "metadata": {
        "collapsed": false
      },
      "outputs": [],
      "source": [
        "fig = plt.figure(facecolor='w', figsize=(14, 3))\nassert len(ts) == len(titles) == len(ps)\nfor ii in range(len(ts)):\n    ax = [fig.add_subplot(2, 10, ii + 1, projection='3d'),\n          fig.add_subplot(2, 10, 11 + ii)]\n    plot_t_p(ts[ii], ps[ii], titles[ii], mccs[ii], ax)\nfig.tight_layout(pad=0, w_pad=0.05, h_pad=0.1)\nplt.show()"
      ]
    },
    {
      "cell_type": "markdown",
      "metadata": {},
      "source": [
        "The first three columns show the parametric and non-parametric statistics\nthat are not corrected for multiple comparisons:\n\n- **t-test** has jagged edges.\n- **\"hat\" variance correction** of the t-test has reduced peaky edges,\n  correcting for sharpness in the statistic driven by low-variance voxels.\n- **non-parametric resampling test** is very similar to the t-test. This\n  is to be expected: the data are drawn from a Gaussian distribution, and\n  thus satisfy parametric assumptions.\n\nThe next three columns show multiple comparison corrections of the\nmass univariate tests (parametric and non-parametric). These\ntoo conservatively correct for multiple comparisons because neighboring\nvoxels in our data are correlated:\n\n- **Bonferroni correction** eliminates any significant activity.\n- **FDR correction** is less conservative than Bonferroni.\n- **Permutation test with a maximum statistic** also eliminates any\n  significant activity.\n\nThe final four columns show the non-parametric, cluster-based permutation\ntests with a maximum statistic:\n\n- **Standard clustering** identifies the correct region. However, the whole\n  area must be declared significant, so no peak analysis can be done.\n  Also, the peak is broad.\n- **Clustering with \"hat\"** tightens the estimate of significant activity.\n- **Clustering with TFCE** allows analyzing each significant point\n  independently, but still has a broadened estimate.\n- **Clustering with TFCE and \"hat\"** tightens the area declared\n  significant (again FWER corrected).\n\nStatistical functions in MNE\n----------------------------\nThe complete listing of statistical functions provided by MNE are in\nthe `Statistics API list <api_reference_statistics>`, but we will give\na brief overview here.\n\nMNE provides several convenience parametric testing functions that can be\nused in conjunction with the non-parametric clustering methods. However,\nthe set of functions we provide is not meant to be exhaustive.\n\nIf the univariate statistical contrast of interest to you is not listed\nhere (e.g., interaction term in an unbalanced ANOVA), consider checking\nout the :mod:`statsmodels` package. It offers many functions for computing\nstatistical contrasts, e.g., :func:`statsmodels.stats.anova.anova_lm`.\nTo use these functions in clustering:\n\n1. Determine which test statistic (e.g., t-value, F-value) you would compute\n   in a univariate context to compute your contrast of interest. In other\n   words, if there were only a single output such as reaction times, what\n   test statistic might you compute on the data?\n2. Wrap the call to that function within a function that takes an input of\n   the same shape that is expected by your clustering function,\n   and returns an array of the same shape without the \"samples\" dimension\n   (e.g., :func:`mne.stats.permutation_cluster_1samp_test` takes an array\n   of shape ``(n_samples, p, q)`` and returns an array of shape ``(p, q)``).\n3. Pass this wrapped function to the ``stat_fun`` argument to the clustering\n   function.\n4. Set an appropriate ``threshold`` value (float or dict) based on the\n   values your statistical contrast function returns.\n\nParametric methods provided by MNE\n^^^^^^^^^^^^^^^^^^^^^^^^^^^^^^^^^^\n\n- :func:`mne.stats.ttest_1samp_no_p`\n    Paired t-test, optionally with hat adjustment.\n    This is used by default for contrast enhancement in paired cluster tests.\n\n- :func:`mne.stats.f_oneway`\n    One-way ANOVA for independent samples.\n    This can be used to compute various F-contrasts. It is used by default\n    for contrast enhancement in non-paired cluster tests.\n\n- :func:`mne.stats.f_mway_rm`\n    M-way ANOVA for repeated measures and balanced designs.\n    This returns F-statistics and p-values. The associated helper function\n    :func:`mne.stats.f_threshold_mway_rm` can be used to determine the\n    F-threshold at a given significance level.\n\n- :func:`mne.stats.linear_regression`\n    Compute ordinary least square regressions on multiple targets, e.g.,\n    sensors, time points across trials (samples).\n    For each regressor it returns the beta value, t-statistic, and\n    uncorrected p-value. While it can be used as a test, it is\n    particularly useful to compute weighted averages or deal with\n    continuous predictors.\n\nNon-parametric methods\n^^^^^^^^^^^^^^^^^^^^^^\n\n- :func:`mne.stats.permutation_cluster_test`\n    Unpaired contrasts with connectivity.\n\n- :func:`mne.stats.spatio_temporal_cluster_test`\n    Unpaired contrasts with spatio-temporal connectivity.\n\n- :func:`mne.stats.permutation_t_test`\n    Paired contrast with no connectivity.\n\n- :func:`mne.stats.permutation_cluster_1samp_test`\n    Paired contrasts with connectivity.\n\n- :func:`mne.stats.spatio_temporal_cluster_1samp_test`\n    Paired contrasts with spatio-temporal connectivity.\n\n<div class=\"alert alert-danger\"><h4>Warning</h4><p>In most MNE functions, data has shape\n             ``(..., n_space, n_time)``, where the spatial dimension can\n             be e.g. sensors or source vertices. But for our spatio-temporal\n             clustering functions, the spatial dimensions need to be **last**\n             for computational efficiency reasons. For example, for\n             :func:`mne.stats.spatio_temporal_cluster_1samp_test`, ``X``\n             needs to be of shape ``(n_samples, n_time, n_space)``. You can\n             use :func:`numpy.transpose` to transpose axes if necessary.</p></div>\n\nReferences\n----------\n.. [1] Ridgway et al. 2012, \"The problem of low variance voxels in\n       statistical parametric mapping; a new hat avoids a 'haircut'\",\n       NeuroImage. 2012 Feb 1;59(3):2131-41.\n\n.. [2] Smith and Nichols 2009, \"Threshold-free cluster enhancement:\n       addressing problems of smoothing, threshold dependence, and\n       localisation in cluster inference\", NeuroImage 44 (2009) 83-98.\n\n\n"
      ]
    }
  ],
  "metadata": {
    "kernelspec": {
      "display_name": "Python 3",
      "language": "python",
      "name": "python3"
    },
    "language_info": {
      "codemirror_mode": {
        "name": "ipython",
        "version": 3
      },
      "file_extension": ".py",
      "mimetype": "text/x-python",
      "name": "python",
      "nbconvert_exporter": "python",
      "pygments_lexer": "ipython3",
      "version": "3.6.5"
    }
  },
  "nbformat": 4,
  "nbformat_minor": 0
}