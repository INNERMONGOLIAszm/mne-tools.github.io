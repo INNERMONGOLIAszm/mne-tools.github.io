{
  "nbformat_minor": 0, 
  "nbformat": 4, 
  "cells": [
    {
      "execution_count": null, 
      "cell_type": "code", 
      "source": [
        "%matplotlib inline"
      ], 
      "outputs": [], 
      "metadata": {
        "collapsed": false
      }
    }, 
    {
      "source": [
        "\n# Background information on configurations\n\n\nThis tutorial gives a short introduction to MNE configurations.\n\n"
      ], 
      "cell_type": "markdown", 
      "metadata": {}
    }, 
    {
      "execution_count": null, 
      "cell_type": "code", 
      "source": [
        "import os.path as op\n\nimport mne\nfrom mne.datasets.sample import data_path\n\nfname = op.join(data_path(), 'MEG', 'sample', 'sample_audvis_raw.fif')\nraw = mne.io.read_raw_fif(fname).crop(0, 10)\noriginal_level = mne.get_config('MNE_LOGGING_LEVEL', 'INFO')"
      ], 
      "outputs": [], 
      "metadata": {
        "collapsed": false
      }
    }, 
    {
      "source": [
        "MNE-python stores configurations to a folder called `.mne` in the user's\nhome directory, or to AppData directory on Windows. The path to the config\nfile can be found out by calling :func:`mne.get_config_path`.\n\n"
      ], 
      "cell_type": "markdown", 
      "metadata": {}
    }, 
    {
      "execution_count": null, 
      "cell_type": "code", 
      "source": [
        "print(mne.get_config_path())"
      ], 
      "outputs": [], 
      "metadata": {
        "collapsed": false
      }
    }, 
    {
      "source": [
        "These configurations include information like sample data paths and plotter\nwindow sizes. Files inside this folder should never be modified manually.\nLet's see what the configurations contain.\n\n"
      ], 
      "cell_type": "markdown", 
      "metadata": {}
    }, 
    {
      "execution_count": null, 
      "cell_type": "code", 
      "source": [
        "print(mne.get_config())"
      ], 
      "outputs": [], 
      "metadata": {
        "collapsed": false
      }
    }, 
    {
      "source": [
        "We see fields like \"MNE_DATASETS_SAMPLE_PATH\". As the name suggests, this is\nthe path the sample data is downloaded to. All the fields in the\nconfiguration file can be modified by calling :func:`mne.set_config`.\n\n"
      ], 
      "cell_type": "markdown", 
      "metadata": {}
    }, 
    {
      "source": [
        "\nLogging\n=======\nConfigurations also include the default logging level for the functions. This\nfield is called \"MNE_LOGGING_LEVEL\".\n\n"
      ], 
      "cell_type": "markdown", 
      "metadata": {}
    }, 
    {
      "execution_count": null, 
      "cell_type": "code", 
      "source": [
        "mne.set_config('MNE_LOGGING_LEVEL', 'INFO')\nprint(mne.get_config(key='MNE_LOGGING_LEVEL'))"
      ], 
      "outputs": [], 
      "metadata": {
        "collapsed": false
      }
    }, 
    {
      "source": [
        "The default value is now set to INFO. This level will now be used by default\nevery time we call a function in MNE. We can set the global logging level for\nonly this session by calling :func:`mne.set_log_level` function.\n\n"
      ], 
      "cell_type": "markdown", 
      "metadata": {}
    }, 
    {
      "execution_count": null, 
      "cell_type": "code", 
      "source": [
        "mne.set_log_level('WARNING')\nprint(mne.get_config(key='MNE_LOGGING_LEVEL'))"
      ], 
      "outputs": [], 
      "metadata": {
        "collapsed": false
      }
    }, 
    {
      "source": [
        "Notice how the value in the config file was not changed. Logging level of\nWARNING only applies for this session. Let's see what logging level of\nWARNING prints for :func:`mne.compute_raw_covariance`.\n\n"
      ], 
      "cell_type": "markdown", 
      "metadata": {}
    }, 
    {
      "execution_count": null, 
      "cell_type": "code", 
      "source": [
        "cov = mne.compute_raw_covariance(raw)"
      ], 
      "outputs": [], 
      "metadata": {
        "collapsed": false
      }
    }, 
    {
      "source": [
        "Nothing. This means that no warnings were emitted during the computation. If\nyou look at the documentation of :func:`mne.compute_raw_covariance`, you\nnotice the ``verbose`` keyword. Setting this parameter does not touch the\nconfigurations, but sets the logging level for just this one function call.\nLet's see what happens with logging level of INFO.\n\n"
      ], 
      "cell_type": "markdown", 
      "metadata": {}
    }, 
    {
      "execution_count": null, 
      "cell_type": "code", 
      "source": [
        "cov = mne.compute_raw_covariance(raw, verbose=True)"
      ], 
      "outputs": [], 
      "metadata": {
        "collapsed": false
      }
    }, 
    {
      "source": [
        "As you see there is some info about what the function is doing. The logging\nlevel can be set to 'DEBUG', 'INFO', 'WARNING', 'ERROR' or 'CRITICAL'. It can\nalso be set to an integer or a boolean value. The correspondance to string\nvalues can be seen in the table below. ``verbose=None`` uses the default\nvalue from the configuration file.\n\n+----------+---------+---------+\n| String   | Integer | Boolean |\n+==========+=========+=========+\n| DEBUG    | 10      |         |\n+----------+---------+---------+\n| INFO     | 20      | True    |\n+----------+---------+---------+\n| WARNING  | 30      | False   |\n+----------+---------+---------+\n| ERROR    | 40      |         |\n+----------+---------+---------+\n| CRITICAL | 50      |         |\n+----------+---------+---------+\n\n"
      ], 
      "cell_type": "markdown", 
      "metadata": {}
    }, 
    {
      "execution_count": null, 
      "cell_type": "code", 
      "source": [
        "mne.set_config('MNE_LOGGING_LEVEL', original_level)"
      ], 
      "outputs": [], 
      "metadata": {
        "collapsed": false
      }
    }
  ], 
  "metadata": {
    "kernelspec": {
      "display_name": "Python 2", 
      "name": "python2", 
      "language": "python"
    }, 
    "language_info": {
      "mimetype": "text/x-python", 
      "nbconvert_exporter": "python", 
      "name": "python", 
      "file_extension": ".py", 
      "version": "2.7.13", 
      "pygments_lexer": "ipython2", 
      "codemirror_mode": {
        "version": 2, 
        "name": "ipython"
      }
    }
  }
}