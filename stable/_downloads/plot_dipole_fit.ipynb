{
  "nbformat_minor": 0, 
  "nbformat": 4, 
  "cells": [
    {
      "execution_count": null, 
      "cell_type": "code", 
      "source": [
        "%matplotlib inline"
      ], 
      "outputs": [], 
      "metadata": {
        "collapsed": false
      }
    }, 
    {
      "source": [
        "\n# Do a dipole fit\n\n\nThis shows how to fit a dipole using mne-python.\n\nFor a comparison of fits between MNE-C and mne-python, see:\n\n    https://gist.github.com/Eric89GXL/ca55f791200fe1dc3dd2\n\n"
      ], 
      "cell_type": "markdown", 
      "metadata": {}
    }, 
    {
      "execution_count": null, 
      "cell_type": "code", 
      "source": [
        "# Author: Eric Larson <larson.eric.d@gmail.com>\n#\n# License: BSD (3-clause)\n\nfrom os import path as op\n\nimport mne\n\nprint(__doc__)\n\ndata_path = mne.datasets.sample.data_path()\nsubjects_dir = op.join(data_path, 'subjects')\nfname_ave = op.join(data_path, 'MEG', 'sample', 'sample_audvis-ave.fif')\nfname_cov = op.join(data_path, 'MEG', 'sample', 'sample_audvis-cov.fif')\nfname_bem = op.join(subjects_dir, 'sample', 'bem', 'sample-5120-bem-sol.fif')\nfname_trans = op.join(data_path, 'MEG', 'sample',\n                      'sample_audvis_raw-trans.fif')\nfname_surf_lh = op.join(subjects_dir, 'sample', 'surf', 'lh.white')\n\n# Let's localize the N100m (using MEG only)\nevoked = mne.read_evokeds(fname_ave, condition='Right Auditory',\n                          baseline=(None, 0))\nevoked.pick_types(meg=True, eeg=False)\nevoked.crop(0.07, 0.08)\n\n# Fit a dipole\ndip = mne.fit_dipole(evoked, fname_cov, fname_bem, fname_trans)[0]\n\n# Plot the result\ndip.plot_locations(fname_trans, 'sample', subjects_dir)"
      ], 
      "outputs": [], 
      "metadata": {
        "collapsed": false
      }
    }
  ], 
  "metadata": {
    "kernelspec": {
      "display_name": "Python 2", 
      "name": "python2", 
      "language": "python"
    }, 
    "language_info": {
      "mimetype": "text/x-python", 
      "nbconvert_exporter": "python", 
      "name": "python", 
      "file_extension": ".py", 
      "version": "2.7.11", 
      "pygments_lexer": "ipython2", 
      "codemirror_mode": {
        "version": 2, 
        "name": "ipython"
      }
    }
  }
}