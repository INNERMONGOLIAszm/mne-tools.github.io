{
  "nbformat_minor": 0, 
  "nbformat": 4, 
  "cells": [
    {
      "execution_count": null, 
      "cell_type": "code", 
      "source": [
        "%matplotlib inline"
      ], 
      "outputs": [], 
      "metadata": {
        "collapsed": false
      }
    }, 
    {
      "source": [
        "\n# Find events in a raw file\n\n\nFind events from the stimulation/trigger channel in the raw data.\nThe plot them to get an idea of the paradigm.\n"
      ], 
      "cell_type": "markdown", 
      "metadata": {}
    }, 
    {
      "execution_count": null, 
      "cell_type": "code", 
      "source": [
        "# Author: Alexandre Gramfort <alexandre.gramfort@telecom-paristech.fr>\n#\n# License: BSD (3-clause)\n\nimport mne\nfrom mne.datasets import sample\nfrom mne.io import Raw\n\nprint(__doc__)\n\ndata_path = sample.data_path()\nfname = data_path + '/MEG/sample/sample_audvis_raw.fif'\n\n# Reading events\nraw = Raw(fname)\n\nevents = mne.find_events(raw, stim_channel='STI 014')\n\n# Writing events\nmne.write_events('sample_audvis_raw-eve.fif', events)\n\nfor ind, before, after in events[:5]:\n    print(\"At sample %d stim channel went from %d to %d\"\n          % (ind, before, after))\n\n# Plot the events to get an idea of the paradigm\n# Specify colors and an event_id dictionary for the legend.\nevent_id = {'aud_l': 1, 'aud_r': 2, 'vis_l': 3, 'vis_r': 4, 'smiley': 5,\n            'button': 32}\ncolor = {1: 'green', 2: 'yellow', 3: 'red', 4: 'c', 5: 'black', 32: 'blue'}\n\nmne.viz.plot_events(events, raw.info['sfreq'], raw.first_samp, color=color,\n                    event_id=event_id)"
      ], 
      "outputs": [], 
      "metadata": {
        "collapsed": false
      }
    }
  ], 
  "metadata": {
    "kernelspec": {
      "display_name": "Python 2", 
      "name": "python2", 
      "language": "python"
    }, 
    "language_info": {
      "mimetype": "text/x-python", 
      "nbconvert_exporter": "python", 
      "name": "python", 
      "file_extension": ".py", 
      "version": "2.7.11", 
      "pygments_lexer": "ipython2", 
      "codemirror_mode": {
        "version": 2, 
        "name": "ipython"
      }
    }
  }
}