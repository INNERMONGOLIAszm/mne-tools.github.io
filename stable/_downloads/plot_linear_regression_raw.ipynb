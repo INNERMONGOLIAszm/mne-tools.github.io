{
  "nbformat_minor": 0, 
  "nbformat": 4, 
  "cells": [
    {
      "execution_count": null, 
      "cell_type": "code", 
      "source": [
        "%matplotlib inline"
      ], 
      "outputs": [], 
      "metadata": {
        "collapsed": false
      }
    }, 
    {
      "source": [
        "\n========================================\nRegression on continuous data (rER[P/F])\n========================================\n\nThis demonstrates how rERPs/regressing the continuous data is a\ngeneralisation of traditional averaging. If all preprocessing steps\nare the same and if no overlap between epochs exists and if all\npredictors are binary, regression is virtually identical to traditional\naveraging.\nIf overlap exists and/or predictors are continuous, traditional averaging\nis inapplicable, but regression can estimate, including those of\ncontinuous predictors.\n\nNote. This example is based on new code which may still not be\nmemory-optimized. Be careful when working with a small computer.\n\nrERPs are described in:\nSmith, N. J., & Kutas, M. (2015). Regression-based estimation of ERP\nwaveforms: II. Non-linear effects, overlap correction, and practical\nconsiderations. Psychophysiology, 52(2), 169-189.\n"
      ], 
      "cell_type": "markdown", 
      "metadata": {}
    }, 
    {
      "execution_count": null, 
      "cell_type": "code", 
      "source": [
        "# Authors: Jona Sassenhagen <jona.sassenhagen@gmail.de>\n#\n# License: BSD (3-clause)\n\nimport matplotlib.pyplot as plt\n\nimport mne\nfrom mne.datasets import spm_face\nfrom mne.stats.regression import linear_regression_raw\n\n# Preprocess data\ndata_path = spm_face.data_path()\n# Load and filter data, set up epochs\nraw_fname = data_path + '/MEG/spm/SPM_CTF_MEG_example_faces1_3D_raw.fif'\n\nraw = mne.io.Raw(raw_fname, preload=True)  # Take first run\n\npicks = mne.pick_types(raw.info, meg=True, exclude='bads')\nraw.filter(1, 45, method='iir')\n\nevents = mne.find_events(raw, stim_channel='UPPT001')\nevent_id = dict(faces=1, scrambled=2)\ntmin, tmax = -.1, .5\n\nraw.pick_types(meg=True)\n\n# regular epoching\nepochs = mne.Epochs(raw, events, event_id, tmin, tmax, reject=None,\n                    baseline=None, preload=True, verbose=False, decim=4)\n\n# rERF\nevokeds = linear_regression_raw(raw, events=events, event_id=event_id,\n                                reject=None, tmin=tmin, tmax=tmax,\n                                decim=4)\n# linear_regression_raw returns a dict of evokeds\n# select conditions similarly to mne.Epochs objects\n\n# plot both results\ncond = \"faces\"\nfig, (ax1, ax2) = plt.subplots(1, 2)\nepochs[cond].average().plot(axes=ax1, show=False)\nevokeds[cond].plot(axes=ax2, show=False)\nax1.set_title(\"Traditional averaging\")\nax2.set_title(\"rERF\")\nplt.show()"
      ], 
      "outputs": [], 
      "metadata": {
        "collapsed": false
      }
    }
  ], 
  "metadata": {
    "kernelspec": {
      "display_name": "Python 2", 
      "name": "python2", 
      "language": "python"
    }, 
    "language_info": {
      "mimetype": "text/x-python", 
      "nbconvert_exporter": "python", 
      "name": "python", 
      "file_extension": ".py", 
      "version": "2.7.11", 
      "pygments_lexer": "ipython2", 
      "codemirror_mode": {
        "version": 2, 
        "name": "ipython"
      }
    }
  }
}