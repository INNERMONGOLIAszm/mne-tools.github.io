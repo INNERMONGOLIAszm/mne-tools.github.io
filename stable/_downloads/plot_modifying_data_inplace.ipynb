{
  "nbformat_minor": 0, 
  "nbformat": 4, 
  "cells": [
    {
      "execution_count": null, 
      "cell_type": "code", 
      "source": [
        "%matplotlib inline"
      ], 
      "outputs": [], 
      "metadata": {
        "collapsed": false
      }
    }, 
    {
      "source": [
        "\n\nModifying data in-place\n=======================\n\nIt is often necessary to modify data once you have loaded it into memory.\nCommon examples of this are signal processing, feature extraction, and data\ncleaning. Some functionality is pre-built into MNE-python, though it is also\npossible to apply an arbitrary function to the data.\n\n"
      ], 
      "cell_type": "markdown", 
      "metadata": {}
    }, 
    {
      "execution_count": null, 
      "cell_type": "code", 
      "source": [
        "import mne\nimport os.path as op\nimport numpy as np\nfrom matplotlib import pyplot as plt"
      ], 
      "outputs": [], 
      "metadata": {
        "collapsed": false
      }
    }, 
    {
      "source": [
        "Load an example dataset, the preload flag loads the data into memory now\n\n"
      ], 
      "cell_type": "markdown", 
      "metadata": {}
    }, 
    {
      "execution_count": null, 
      "cell_type": "code", 
      "source": [
        "data_path = op.join(mne.datasets.sample.data_path(), 'MEG',\n                    'sample', 'sample_audvis_raw.fif')\nraw = mne.io.read_raw_fif(data_path, preload=True)\nraw = raw.crop(0, 10)\nprint(raw)"
      ], 
      "outputs": [], 
      "metadata": {
        "collapsed": false
      }
    }, 
    {
      "source": [
        "Signal processing\n-----------------\n\nMost MNE objects have in-built methods for filtering:\n\n"
      ], 
      "cell_type": "markdown", 
      "metadata": {}
    }, 
    {
      "execution_count": null, 
      "cell_type": "code", 
      "source": [
        "filt_bands = [(1, 3), (3, 10), (10, 20), (20, 60)]\nf, (ax, ax2) = plt.subplots(2, 1, figsize=(15, 10))\ndata, times = raw[0]\n_ = ax.plot(data[0])\nfor fmin, fmax in filt_bands:\n    raw_filt = raw.copy()\n    raw_filt.filter(fmin, fmax, fir_design='firwin')\n    _ = ax2.plot(raw_filt[0][0][0])\nax2.legend(filt_bands)\nax.set_title('Raw data')\nax2.set_title('Band-pass filtered data')"
      ], 
      "outputs": [], 
      "metadata": {
        "collapsed": false
      }
    }, 
    {
      "source": [
        "In addition, there are functions for applying the Hilbert transform, which is\nuseful to calculate phase / amplitude of your signal.\n\n"
      ], 
      "cell_type": "markdown", 
      "metadata": {}
    }, 
    {
      "execution_count": null, 
      "cell_type": "code", 
      "source": [
        "# Filter signal with a fairly steep filter, then take hilbert transform\n\nraw_band = raw.copy()\nraw_band.filter(12, 18, l_trans_bandwidth=2., h_trans_bandwidth=2.,\n                fir_design='firwin')\nraw_hilb = raw_band.copy()\nhilb_picks = mne.pick_types(raw_band.info, meg=False, eeg=True)\nraw_hilb.apply_hilbert(hilb_picks)\nprint(raw_hilb[0][0].dtype)"
      ], 
      "outputs": [], 
      "metadata": {
        "collapsed": false
      }
    }, 
    {
      "source": [
        "Finally, it is possible to apply arbitrary functions to your data to do\nwhat you want. Here we will use this to take the amplitude and phase of\nthe hilbert transformed data.\n\n<div class=\"alert alert-info\"><h4>Note</h4><p>You can also use ``amplitude=True`` in the call to\n          :meth:`mne.io.Raw.apply_hilbert` to do this automatically.</p></div>\n\n\n"
      ], 
      "cell_type": "markdown", 
      "metadata": {}
    }, 
    {
      "execution_count": null, 
      "cell_type": "code", 
      "source": [
        "# Take the amplitude and phase\nraw_amp = raw_hilb.copy()\nraw_amp.apply_function(np.abs, hilb_picks)\nraw_phase = raw_hilb.copy()\nraw_phase.apply_function(np.angle, hilb_picks)\n\nf, (a1, a2) = plt.subplots(2, 1, figsize=(15, 10))\na1.plot(raw_band[hilb_picks[0]][0][0].real)\na1.plot(raw_amp[hilb_picks[0]][0][0].real)\na2.plot(raw_phase[hilb_picks[0]][0][0].real)\na1.set_title('Amplitude of frequency band')\na2.set_title('Phase of frequency band')"
      ], 
      "outputs": [], 
      "metadata": {
        "collapsed": false
      }
    }
  ], 
  "metadata": {
    "kernelspec": {
      "display_name": "Python 2", 
      "name": "python2", 
      "language": "python"
    }, 
    "language_info": {
      "mimetype": "text/x-python", 
      "nbconvert_exporter": "python", 
      "name": "python", 
      "file_extension": ".py", 
      "version": "2.7.14", 
      "pygments_lexer": "ipython2", 
      "codemirror_mode": {
        "version": 2, 
        "name": "ipython"
      }
    }
  }
}