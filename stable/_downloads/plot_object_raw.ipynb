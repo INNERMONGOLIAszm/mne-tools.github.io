{
  "nbformat_minor": 0, 
  "nbformat": 4, 
  "cells": [
    {
      "execution_count": null, 
      "cell_type": "code", 
      "source": [
        "%matplotlib inline"
      ], 
      "outputs": [], 
      "metadata": {
        "collapsed": false
      }
    }, 
    {
      "source": [
        "\n\nThe :class:`Raw <mne.io.Raw>` data structure: continuous data\n=============================================================\n\nContinuous data is stored in objects of type :class:`Raw <mne.io.Raw>`.\nThe core data structure is simply a 2D numpy array (channels \u00d7 samples)\n(in memory or loaded on demand) combined with an\n:class:`Info <mne.Info>` object (`.info` attribute)\n(see `tut_info_objects`).\n\nThe most common way to load continuous data is from a .fif file. For more\ninformation on `loading data from other formats <ch_convert>`, or\ncreating it `from scratch <tut_creating_data_structures>`.\n\n"
      ], 
      "cell_type": "markdown", 
      "metadata": {}
    }, 
    {
      "execution_count": null, 
      "cell_type": "code", 
      "source": [
        "import mne\nimport os.path as op\nfrom matplotlib import pyplot as plt"
      ], 
      "outputs": [], 
      "metadata": {
        "collapsed": false
      }
    }, 
    {
      "source": [
        "Loading continuous data\n-----------------------\n\nLoad an example dataset, the preload flag loads the data into memory now:\n\n"
      ], 
      "cell_type": "markdown", 
      "metadata": {}
    }, 
    {
      "execution_count": null, 
      "cell_type": "code", 
      "source": [
        "data_path = op.join(mne.datasets.sample.data_path(), 'MEG',\n                    'sample', 'sample_audvis_raw.fif')\nraw = mne.io.read_raw_fif(data_path, preload=True)\nraw.set_eeg_reference('average', projection=True)  # set EEG average reference\n\n# Give the sample rate\nprint('sample rate:', raw.info['sfreq'], 'Hz')\n# Give the size of the data matrix\nprint('%s channels x %s samples' % (len(raw), len(raw.times)))"
      ], 
      "outputs": [], 
      "metadata": {
        "collapsed": false
      }
    }, 
    {
      "source": [
        "<div class=\"alert alert-info\"><h4>Note</h4><p>This size can also be obtained by examining `raw._data.shape`.\n          However this is a private attribute as its name starts\n          with an `_`. This suggests that you should **not** access this\n          variable directly but rely on indexing syntax detailed just below.</p></div>\n\n"
      ], 
      "cell_type": "markdown", 
      "metadata": {}
    }, 
    {
      "source": [
        "Information about the channels contained in the :class:`Raw <mne.io.Raw>`\nobject is contained in the :class:`Info <mne.Info>` attribute.\nThis is essentially a dictionary with a number of relevant fields (see\n`tut_info_objects`).\n\n"
      ], 
      "cell_type": "markdown", 
      "metadata": {}
    }, 
    {
      "source": [
        "Indexing data\n-------------\n\nTo access the data stored within :class:`Raw <mne.io.Raw>` objects,\nit is possible to index the :class:`Raw <mne.io.Raw>` object.\n\nIndexing a :class:`Raw <mne.io.Raw>` object will return two arrays: an array\nof times, as well as the data representing those timepoints. This works\neven if the data is not preloaded, in which case the data will be read from\ndisk when indexing. The syntax is as follows:\n\n"
      ], 
      "cell_type": "markdown", 
      "metadata": {}
    }, 
    {
      "execution_count": null, 
      "cell_type": "code", 
      "source": [
        "# Extract data from the first 5 channels, from 1 s to 3 s.\nsfreq = raw.info['sfreq']\ndata, times = raw[:5, int(sfreq * 1):int(sfreq * 3)]\n_ = plt.plot(times, data.T)\n_ = plt.title('Sample channels')"
      ], 
      "outputs": [], 
      "metadata": {
        "collapsed": false
      }
    }, 
    {
      "source": [
        "-----------------------------------------\nSelecting subsets of channels and samples\n-----------------------------------------\n\nIt is possible to use more intelligent indexing to extract data, using\nchannel names, types or time ranges.\n\n"
      ], 
      "cell_type": "markdown", 
      "metadata": {}
    }, 
    {
      "execution_count": null, 
      "cell_type": "code", 
      "source": [
        "# Pull all MEG gradiometer channels:\n# Make sure to use .copy() or it will overwrite the data\nmeg_only = raw.copy().pick_types(meg=True)\neeg_only = raw.copy().pick_types(meg=False, eeg=True)\n\n# The MEG flag in particular lets you specify a string for more specificity\ngrad_only = raw.copy().pick_types(meg='grad')\n\n# Or you can use custom channel names\npick_chans = ['MEG 0112', 'MEG 0111', 'MEG 0122', 'MEG 0123']\nspecific_chans = raw.copy().pick_channels(pick_chans)\nprint(meg_only)\nprint(eeg_only)\nprint(grad_only)\nprint(specific_chans)"
      ], 
      "outputs": [], 
      "metadata": {
        "collapsed": false
      }
    }, 
    {
      "source": [
        "Notice the different scalings of these types\n\n"
      ], 
      "cell_type": "markdown", 
      "metadata": {}
    }, 
    {
      "execution_count": null, 
      "cell_type": "code", 
      "source": [
        "f, (a1, a2) = plt.subplots(2, 1)\neeg, times = eeg_only[0, :int(sfreq * 2)]\nmeg, times = meg_only[0, :int(sfreq * 2)]\na1.plot(times, meg[0])\na2.plot(times, eeg[0])\ndel eeg, meg, meg_only, grad_only, eeg_only, data, specific_chans"
      ], 
      "outputs": [], 
      "metadata": {
        "collapsed": false
      }
    }, 
    {
      "source": [
        "You can restrict the data to a specific time range\n\n"
      ], 
      "cell_type": "markdown", 
      "metadata": {}
    }, 
    {
      "execution_count": null, 
      "cell_type": "code", 
      "source": [
        "raw = raw.crop(0, 50)  # in seconds\nprint('New time range from', raw.times.min(), 's to', raw.times.max(), 's')"
      ], 
      "outputs": [], 
      "metadata": {
        "collapsed": false
      }
    }, 
    {
      "source": [
        "And drop channels by name\n\n"
      ], 
      "cell_type": "markdown", 
      "metadata": {}
    }, 
    {
      "execution_count": null, 
      "cell_type": "code", 
      "source": [
        "nchan = raw.info['nchan']\nraw = raw.drop_channels(['MEG 0241', 'EEG 001'])\nprint('Number of channels reduced from', nchan, 'to', raw.info['nchan'])"
      ], 
      "outputs": [], 
      "metadata": {
        "collapsed": false
      }
    }, 
    {
      "source": [
        "--------------------------------------------------\nConcatenating :class:`Raw <mne.io.Raw>` objects\n--------------------------------------------------\n\n:class:`Raw <mne.io.Raw>` objects can be concatenated in time by using the\n:func:`append <mne.io.Raw.append>` function. For this to work, they must\nhave the same number of channels and their :class:`Info\n<mne.Info>` structures should be compatible.\n\n"
      ], 
      "cell_type": "markdown", 
      "metadata": {}
    }, 
    {
      "execution_count": null, 
      "cell_type": "code", 
      "source": [
        "# Create multiple :class:`Raw <mne.io.RawFIF>` objects\nraw1 = raw.copy().crop(0, 10)\nraw2 = raw.copy().crop(10, 20)\nraw3 = raw.copy().crop(20, 40)\n\n# Concatenate in time (also works without preloading)\nraw1.append([raw2, raw3])\nprint('Time extends from', raw1.times.min(), 's to', raw1.times.max(), 's')"
      ], 
      "outputs": [], 
      "metadata": {
        "collapsed": false
      }
    }
  ], 
  "metadata": {
    "kernelspec": {
      "display_name": "Python 2", 
      "name": "python2", 
      "language": "python"
    }, 
    "language_info": {
      "mimetype": "text/x-python", 
      "nbconvert_exporter": "python", 
      "name": "python", 
      "file_extension": ".py", 
      "version": "2.7.14", 
      "pygments_lexer": "ipython2", 
      "codemirror_mode": {
        "version": 2, 
        "name": "ipython"
      }
    }
  }
}