{
  "nbformat_minor": 0, 
  "nbformat": 4, 
  "cells": [
    {
      "execution_count": null, 
      "cell_type": "code", 
      "source": [
        "%matplotlib inline"
      ], 
      "outputs": [], 
      "metadata": {
        "collapsed": false
      }
    }, 
    {
      "source": [
        "\n\nSource alignment\n================\n\nThe aim of this tutorial is to show how to visually assess that the data\nare well aligned in space for computing the forward solution.\n\n"
      ], 
      "cell_type": "markdown", 
      "metadata": {}
    }, 
    {
      "execution_count": null, 
      "cell_type": "code", 
      "source": [
        "import os.path as op\n\nimport mne\nfrom mne.datasets import sample\n\nprint(__doc__)"
      ], 
      "outputs": [], 
      "metadata": {
        "collapsed": false
      }
    }, 
    {
      "source": [
        "Set parameters\n--------------\n\n"
      ], 
      "cell_type": "markdown", 
      "metadata": {}
    }, 
    {
      "execution_count": null, 
      "cell_type": "code", 
      "source": [
        "data_path = sample.data_path()\nsubjects_dir = op.join(data_path, 'subjects')\nraw_fname = op.join(data_path, 'MEG', 'sample', 'sample_audvis_raw.fif')\ntr_fname = op.join(data_path, 'MEG', 'sample', 'sample_audvis_raw-trans.fif')\nraw = mne.io.read_raw_fif(raw_fname)"
      ], 
      "outputs": [], 
      "metadata": {
        "collapsed": false
      }
    }, 
    {
      "source": [
        ":func:`mne.viz.plot_alignment` is a very useful function for inspecting\nthe surface alignment before source analysis. If the ``subjects_dir`` and\n``subject`` parameters are provided, the function automatically looks for the\nFreesurfer surfaces from the subject's folder. Here we use trans=None, which\n(incorrectly!) equates the MRI and head coordinate frames.\n\n"
      ], 
      "cell_type": "markdown", 
      "metadata": {}
    }, 
    {
      "execution_count": null, 
      "cell_type": "code", 
      "source": [
        "mne.viz.plot_alignment(raw.info, trans=None, subject='sample',\n                       subjects_dir=subjects_dir, surfaces=['head', 'brain'])"
      ], 
      "outputs": [], 
      "metadata": {
        "collapsed": false
      }
    }, 
    {
      "source": [
        "It is quite clear that things are not well aligned for estimating the\nsources. We need to provide the function with a transformation that aligns\nthe MRI with the MEG data. Here we use a precomputed matrix, but you can try\ncreating it yourself using :func:`mne.gui.coregistration`.\n\nAligning the data using GUI\n---------------------------\nUncomment the following line to align the data yourself.\n\n* First you must load the digitization data from the raw file\n  (``Head Shape Source``). The MRI data is already loaded if you provide the\n  ``subject`` and ``subjects_dir``. Toggle ``Always Show Head Points`` to see\n  the digitization points.\n* To set the landmarks, toggle ``Edit`` radio button in ``MRI Fiducials``.\n* Set the landmarks by clicking the radio button (LPA, Nasion, RPA) and then\n  clicking the corresponding point in the image.\n* After doing this for all the landmarks, toggle ``Lock`` radio button. You\n  can omit outlier points, so that they don't interfere with the finetuning.\n\n  .. note:: You can save the fiducials to a file and pass\n            ``mri_fiducials=True`` to plot them in\n            :func:`mne.viz.plot_alignment`. The fiducials are saved to the\n            subject's bem folder by default.\n* Click ``Fit Head Shape``. This will align the digitization points to the\n  head surface. Sometimes the fitting algorithm doesn't find the correct\n  alignment immediately. You can try first fitting using LPA/RPA or fiducials\n  and then align according to the digitization. You can also finetune\n  manually with the controls on the right side of the panel.\n* Click ``Save As...`` (lower right corner of the panel), set the filename\n  and read it with :func:`mne.read_trans`.\n\n"
      ], 
      "cell_type": "markdown", 
      "metadata": {}
    }, 
    {
      "execution_count": null, 
      "cell_type": "code", 
      "source": [
        "# mne.gui.coregistration(subject='sample', subjects_dir=subjects_dir)\ntrans = mne.read_trans(tr_fname)\nsrc = mne.read_source_spaces(op.join(data_path, 'MEG', 'sample',\n                                     'sample_audvis-meg-oct-6-meg-inv.fif'))\nmne.viz.plot_alignment(raw.info, trans=trans, subject='sample', src=src,\n                       subjects_dir=subjects_dir, surfaces=['head', 'white'])"
      ], 
      "outputs": [], 
      "metadata": {
        "collapsed": false
      }
    }, 
    {
      "source": [
        "The previous is possible if you have the surfaces available from Freesurfer.\nThe function automatically searches for the correct surfaces from the\nprovided ``subjects_dir``. Otherwise it is possible to use the sphere\nconductor model. It is passed through ``bem`` parameter.\n\n<div class=\"alert alert-info\"><h4>Note</h4><p>``bem`` also accepts bem solutions (:func:`mne.read_bem_solution`)\n          or a list of bem surfaces (:func:`mne.read_bem_surfaces`).</p></div>\n\n"
      ], 
      "cell_type": "markdown", 
      "metadata": {}
    }, 
    {
      "execution_count": null, 
      "cell_type": "code", 
      "source": [
        "sphere = mne.make_sphere_model(info=raw.info, r0='auto', head_radius='auto')\nmne.viz.plot_alignment(raw.info, subject='sample', eeg='projected',\n                       meg='helmet', bem=sphere, dig=True,\n                       surfaces=['brain', 'inner_skull', 'outer_skull',\n                                 'outer_skin'])"
      ], 
      "outputs": [], 
      "metadata": {
        "collapsed": false
      }
    }, 
    {
      "source": [
        "For more information see step by step instructions\n`for subjects with structural MRI\n<http://www.slideshare.net/mne-python/mnepython-coregistration>`_ and `for\nsubjects for which no MRI is available\n<http://www.slideshare.net/mne-python/mnepython-scale-mri>`_.\n\n"
      ], 
      "cell_type": "markdown", 
      "metadata": {}
    }
  ], 
  "metadata": {
    "kernelspec": {
      "display_name": "Python 2", 
      "name": "python2", 
      "language": "python"
    }, 
    "language_info": {
      "mimetype": "text/x-python", 
      "nbconvert_exporter": "python", 
      "name": "python", 
      "file_extension": ".py", 
      "version": "2.7.14", 
      "pygments_lexer": "ipython2", 
      "codemirror_mode": {
        "version": 2, 
        "name": "ipython"
      }
    }
  }
}