{
  "nbformat_minor": 0, 
  "nbformat": 4, 
  "cells": [
    {
      "execution_count": null, 
      "cell_type": "code", 
      "source": [
        "%matplotlib inline"
      ], 
      "outputs": [], 
      "metadata": {
        "collapsed": false
      }
    }, 
    {
      "source": [
        "\n# Brainstorm auditory tutorial dataset\n\n\nHere we compute the evoked from raw for the auditory Brainstorm\ntutorial dataset. For comparison, see:\nhttp://neuroimage.usc.edu/brainstorm/Tutorials/Auditory\n\nReferences\n----------\n.. [1] Tadel F, Baillet S, Mosher JC, Pantazis D, Leahy RM.\n       Brainstorm: A User-Friendly Application for MEG/EEG Analysis.\n       Computational Intelligence and Neuroscience, vol. 2011, Article ID\n       879716, 13 pages, 2011. doi:10.1155/2011/879716\n"
      ], 
      "cell_type": "markdown", 
      "metadata": {}
    }, 
    {
      "execution_count": null, 
      "cell_type": "code", 
      "source": [
        "# Authors: Mainak Jas <mainak.jas@telecom-paristech.fr>\n#          Eric Larson <larson.eric.d@gmail.com>\n#          Jaakko Leppakangas <jaeilepp@student.jyu.fi>\n#\n# License: BSD (3-clause)\n\n# TODO:\n# - figure out why there is contamination at ~350 ms in standard condition\n# - complete source localization\n\nimport numpy as np\nfrom scipy.io import loadmat\nfrom pyface.qt import QtGui, QtCore\n\nimport mne\nfrom mne.datasets.brainstorm import bst_auditory\nfrom mne.io import Raw\n\nprint(__doc__)\n\ndata_path = bst_auditory.data_path()\n\ntmin, tmax = -0.1, 0.5\nevent_id = dict(standard=1, deviant=2)\nreject = dict(mag=4e-12, eog=250e-6)\nsubject = 'bst_auditory'\nsubjects_dir = data_path + '/subjects'\nraw_fnames = [data_path + '/MEG/bst_auditory/S01_AEF_20131218_0%s_raw.fif'\n              % run_num for run_num in range(1, 3)]\nerm_fname = data_path + '/MEG/bst_auditory/S01_Noise_20131218_01_raw.fif'\n\nraw = Raw(raw_fnames, preload=True, add_eeg_ref=False)\nraw_erm = Raw(erm_fname, preload=True, add_eeg_ref=False)\n\n# set EOG channel\nraw.set_channel_types({'HEOG': 'eog', 'VEOG': 'eog', 'ECG': 'ecg'})\n\n# leave eeg out\nraw.pick_types(meg=True, eeg=False, stim=True, misc=True, eog=True, ecg=True)\n\n# parse Brainstorm bad event data\nbad_segments = list()\nsaccades = list()\nfor ii in range(1, 3):\n    bad_events = loadmat(data_path + '/MEG/bst_auditory/events_bad_0%s' % ii)\n    bad_events = bad_events['events']\n    these_bads = these_saccades = np.empty((0, 3), int)\n    for events in bad_events[0]:\n        if events[0][0] == 'BAD':\n            events = events[3].astype(int).T\n            for event in events:\n                event[1] -= event[0]\n            events = np.column_stack((events, np.ones(len(events))))\n            these_bads = events\n        else:  # events[0][0] == 'saccade':\n            events = events[3][0].astype(int)\n            events = np.column_stack((events,\n                                      np.zeros_like(events),\n                                      np.ones_like(events)))\n            these_saccades = events\n    bad_segments.append(these_bads)\n    saccades.append(these_saccades)\n\nsfreq = raw.info['sfreq']\n\nsaccades = mne.concatenate_events(saccades, raw._first_samps, raw._last_samps)\nbad_segments = mne.concatenate_events(bad_segments, raw._first_samps,\n                                      raw._last_samps)\n\nonsets = np.concatenate([bad_segments[:, 0] / sfreq,\n                         saccades[:, 0] / sfreq])\ndurations = np.concatenate([bad_segments[:, 1] / sfreq,\n                            saccades[:, 1] / sfreq])\nbads = np.repeat('BAD', len(bad_segments))\nsacs = np.repeat('saccade', len(saccades))\ndescriptions = np.concatenate([bads, sacs])\nannot = mne.annotations.Annotations(onsets, durations, descriptions)\nraw.annotations = annot\n# compute saccade and EOG projectors and add them to the data\nraw_filt = raw.copy()\nraw_filt.filter(1., 15.)\nsaccade_epochs = mne.Epochs(raw_filt, saccades, 1, 0., 0.5, preload=True,\n                            segment_reject=False)\n\nprojs_saccade = mne.compute_proj_epochs(saccade_epochs, n_mag=1, n_eeg=0,\n                                        desc_prefix='saccade')\n\ndel raw_filt, saccade_epochs  # to save memory\nprojs_eog = mne.preprocessing.compute_proj_eog(raw, n_mag=1, n_eeg=0)[0]\nraw.add_proj(projs_saccade)\nraw.add_proj(projs_eog)\n\n# look at the effects of projection\nraw.plot()\n\n# show power line interference and remove it\nmeg_picks = mne.pick_types(raw.info, meg=True, eeg=False)\nraw.plot_psd(picks=meg_picks)\nnotches = np.arange(60, 181, 60)\nraw.notch_filter(notches)\nraw_erm.notch_filter(notches)\nraw.plot_psd(picks=meg_picks)\n\n# lowpass data at 100 Hz\nraw.filter(None, 100.)\nraw_erm.filter(None, 100.)\n\n# find events\nevents = mne.find_events(raw, stim_channel='UPPT001')\n\n# adjust event times based on detected sound onsets\nsound_data = raw[mne.pick_channels(raw.ch_names, ['UADC001-4408'])][0][0]\nonsets = np.where(np.abs(sound_data) > 2. * np.std(sound_data))[0]\nmin_diff = int(0.5 * raw.info['sfreq'])\ndiffs = np.concatenate([[min_diff + 1], np.diff(onsets)])\nonsets = onsets[diffs > min_diff]\nassert len(onsets) == len(events)\ndiffs = 1000. * (events[:, 0] - onsets) / raw.info['sfreq']\nprint('Trigger delay removed (\u03bc \u00b1 \u03c3): %0.1f \u00b1 %0.1f ms'\n      % (np.mean(diffs), np.std(diffs)))\nevents[:, 0] = onsets\n\n# set bad channels\nraw.info['bads'] = ['MLO52-4408', 'MRT51-4408', 'MLO42-4408', 'MLO43-4408']\n\n# pick MEG channels\npicks = mne.pick_types(raw.info, meg=True, eeg=False, stim=False, eog=True,\n                       exclude='bads')\n\n# Compute epochs\nepochs = mne.Epochs(raw, events, event_id, tmin, tmax, picks=picks,\n                    baseline=(None, 0), reject=reject, preload=False,\n                    proj=True)\n\n# compute evoked\nevoked_standard = epochs['standard'].average()\nevoked_deviant = epochs['deviant'].average()\n\n# plot the result\nevoked_standard.plot(window_title='Standard', gfp=True)\nevoked_deviant.plot(window_title='Deviant', gfp=True)\n\n# show topomaps\ntimes = np.arange(0, 0.351, 0.025)\nevoked_standard.plot_topomap(times=times)\nevoked_deviant.plot_topomap(times=times)\n\nevoked_difference = evoked_standard.copy()\nevoked_difference.data = evoked_deviant.data - evoked_standard.data\nevoked_difference.plot(window_title='Difference', gfp=True)\n\n# compute noise covariance\ncov = mne.compute_raw_covariance(raw_erm, reject=reject)\ncov.plot(raw_erm.info)\n\nsrc = mne.read_source_spaces(subjects_dir +\n                             '/bst_auditory/bem/bst_auditory-oct-6-src.fif')\ntrans = mne.read_trans(data_path + '/MEG/bst_auditory/mainak-trans.fif')\nsurfs = mne.read_bem_surfaces(subjects_dir +\n                              '/bst_auditory/bem/bst_auditory-inner-skull.fif')\nbem = mne.make_bem_solution(surfs)\n\nfwd = mne.make_forward_solution(evoked_standard.info, trans=trans, src=src,\n                                bem=bem)\n\ninv = mne.minimum_norm.make_inverse_operator(evoked_standard.info, fwd, cov)\n\nsnr = 3.0\nlambda2 = 1.0 / snr ** 2\nstc_standard = mne.minimum_norm.apply_inverse(evoked_standard, inv, lambda2,\n                                              'dSPM')\nstc_deviant = mne.minimum_norm.apply_inverse(evoked_deviant, inv, lambda2,\n                                             'dSPM')\nstc_difference = mne.minimum_norm.apply_inverse(evoked_difference, inv,\n                                                lambda2, 'dSPM')\n\nstc_standard.plot(subjects_dir=subjects_dir, subject=subject,\n                  surface='inflated', time_viewer=True, hemi='both')\n\nstc_deviant.plot(subjects_dir=subjects_dir, subject=subject,\n                 surface='inflated', time_viewer=True, hemi='both')\n\nstc_difference.plot(subjects_dir=subjects_dir, subject=subject,\n                    surface='inflated', time_viewer=True, hemi='both')"
      ], 
      "outputs": [], 
      "metadata": {
        "collapsed": false
      }
    }
  ], 
  "metadata": {
    "kernelspec": {
      "display_name": "Python 2", 
      "name": "python2", 
      "language": "python"
    }, 
    "language_info": {
      "mimetype": "text/x-python", 
      "nbconvert_exporter": "python", 
      "name": "python", 
      "file_extension": ".py", 
      "version": "2.7.11", 
      "pygments_lexer": "ipython2", 
      "codemirror_mode": {
        "version": 2, 
        "name": "ipython"
      }
    }
  }
}